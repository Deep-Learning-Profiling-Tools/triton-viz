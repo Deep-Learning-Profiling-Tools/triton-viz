{
 "cells": [
  {
   "cell_type": "markdown",
   "id": "05199f6b-13f0-49af-9a57-d4e98f80ef47",
   "metadata": {},
   "source": [
    "# Triton Puzzles"
   ]
  },
  {
   "cell_type": "code",
   "execution_count": 1,
   "id": "88e71c24-2a2b-4616-9581-4f93eeb2a8f6",
   "metadata": {},
   "outputs": [],
   "source": [
    "import torch\n",
    "import triton\n",
    "from torch import Tensor\n",
    "import triton.language as tl\n",
    "import triton_viz\n",
    "from triton_viz.interpreter import record_builder\n",
    "import jaxtyping \n",
    "import inspect\n",
    "from jaxtyping import Float\n",
    "\n",
    "def test(puzzle, puzzle_spec, nelem={}, B={\"B0\": 32}):\n",
    "    B = dict(B)\n",
    "    if \"N1\" in nelem:\n",
    "        B[\"B1\"] = 32\n",
    "    if \"N2\" in nelem:\n",
    "        B[\"B2\"] = 32\n",
    "        \n",
    "    triton_viz.interpreter.record_builder.reset()\n",
    "    torch.manual_seed(0)\n",
    "    signature = inspect.signature(puzzle_spec)\n",
    "    args = {}\n",
    "    for n, p in signature.parameters.items():\n",
    "        args[n + \"_ptr\"] = [d.size for d in p.annotation.dims]\n",
    "    args[\"z_ptr\"] = [d.size for d in signature.return_annotation.dims]\n",
    "    \n",
    "    tt_args = []\n",
    "    for k, v in args.items():\n",
    "        tt_args.append(torch.rand(*v))\n",
    "    grid = lambda meta: (triton.cdiv(nelem[\"N0\"], meta[\"B0\"]), \n",
    "                         triton.cdiv(nelem.get(\"N1\", 1), meta.get(\"B1\", 1)), \n",
    "                         triton.cdiv(nelem.get(\"N2\", 1), meta.get(\"B2\", 1)))   \n",
    "\n",
    "    for k, v in args.items():\n",
    "        print(k, v)\n",
    "    triton_viz.trace(puzzle)[grid](*tt_args, **B, **nelem)\n",
    "    z = tt_args[-1]\n",
    "    tt_args = tt_args[:-1]\n",
    "    z_ = puzzle_spec(*tt_args)\n",
    "    print(\"Results match:\",  torch.allclose(z, z_))\n",
    "    triton_viz.launch()"
   ]
  },
  {
   "cell_type": "code",
   "execution_count": 3,
   "id": "9a99c901-80db-482c-b734-d8e262540a0c",
   "metadata": {},
   "outputs": [],
   "source": []
  },
  {
   "cell_type": "markdown",
   "id": "f617b944-cf73-4bad-b7d6-1cc6d17879a9",
   "metadata": {},
   "source": [
    "## Puzzle 1: Constant Add\n",
    "\n",
    "Add a constant to a vector. Uses one program block. Block size `B0` is always the same as vector length `N0`.\n"
   ]
  },
  {
   "cell_type": "code",
   "execution_count": 3,
   "id": "3d5fdae5-156e-48e6-abb3-9abe9d258229",
   "metadata": {},
   "outputs": [
    {
     "name": "stdout",
     "output_type": "stream",
     "text": [
      "Results match: True\n",
      "Running on local URL:  http://127.0.0.1:7860\n",
      "Running on public URL: https://3d9851881489f442ca.gradio.live\n"
     ]
    },
    {
     "data": {
      "text/html": [
       "<div><iframe src=\"https://3d9851881489f442ca.gradio.live\" width=\"100%\" height=\"800\" allow=\"autoplay; camera; microphone; clipboard-read; clipboard-write;\" frameborder=\"0\" allowfullscreen></iframe></div>"
      ],
      "text/plain": [
       "<IPython.core.display.HTML object>"
      ]
     },
     "metadata": {},
     "output_type": "display_data"
    }
   ],
   "source": [
    "def add_spec(x: Float[Tensor, \"32\"]) -> Float[Tensor, \"32\"]:\n",
    "    return x + 10.\n",
    "\n",
    "@triton.jit\n",
    "def add_kernel(x_ptr, z_ptr, N0, B0: tl.constexpr):\n",
    "    range = tl.arange(0, B0)\n",
    "    x = tl.load(x_ptr + range)\n",
    "    z = x + 10\n",
    "    z = tl.store(z_ptr + range, z)\n",
    "\n",
    "test(add_kernel, add_spec, nelem={\"N0\": 32})"
   ]
  },
  {
   "cell_type": "markdown",
   "id": "863aa741-98ba-4370-970a-7378a075fadb",
   "metadata": {},
   "source": [
    "## Puzzle 2: Constant Add Block\n",
    "\n",
    "Add a constant to a vector. Uses one program block. Block size `B0` is always the same as vector length `N0`.\n",
    "\n"
   ]
  },
  {
   "cell_type": "code",
   "execution_count": 4,
   "id": "74baeaed-82d0-4814-b1fc-e9a51237cf7e",
   "metadata": {},
   "outputs": [
    {
     "name": "stdout",
     "output_type": "stream",
     "text": [
      "Results match: True\n",
      "Running on local URL:  http://127.0.0.1:7861\n",
      "Running on public URL: https://c6ee2b6ec3dcfcb629.gradio.live\n"
     ]
    },
    {
     "data": {
      "text/html": [
       "<div><iframe src=\"https://c6ee2b6ec3dcfcb629.gradio.live\" width=\"100%\" height=\"800\" allow=\"autoplay; camera; microphone; clipboard-read; clipboard-write;\" frameborder=\"0\" allowfullscreen></iframe></div>"
      ],
      "text/plain": [
       "<IPython.core.display.HTML object>"
      ]
     },
     "metadata": {},
     "output_type": "display_data"
    }
   ],
   "source": [
    "def add2_spec(x: Float[Tensor, \"200\"]) -> Float[Tensor, \"200\"]:\n",
    "    return x + 10.\n",
    "\n",
    "@triton.jit\n",
    "def add_mask2_kernel(x_ptr, z_ptr, N0, B0: tl.constexpr):\n",
    "    pid = tl.program_id(0)\n",
    "    range = pid * B0 + tl.arange(0, B0)\n",
    "    x = tl.load(x_ptr + range, range < N0, 0\n",
    "               )\n",
    "    z = x + 10\n",
    "    z = tl.store(z_ptr + range, \n",
    "                 z, range < N0)\n",
    "    \n",
    "test(add_mask2_kernel, add2_spec, nelem={\"N0\": 200})"
   ]
  },
  {
   "cell_type": "markdown",
   "id": "639dbf91-18b1-4bc6-8624-609b1031e9e1",
   "metadata": {},
   "source": [
    "## Puzzle 3: Outer Vector Add\n",
    "\n",
    "Add two vectors. Uses one program block. Block size `B0` is always the same as vector `x` length `N0`.\n",
    "Block size `B1` is always the same as vector `y` length `N1`.\n"
   ]
  },
  {
   "cell_type": "code",
   "execution_count": 7,
   "id": "5a977409-3fcb-4b72-abee-f09d02bf6f70",
   "metadata": {},
   "outputs": [
    {
     "name": "stdout",
     "output_type": "stream",
     "text": [
      "Results match: True\n",
      "Running on local URL:  http://127.0.0.1:7863\n",
      "Running on public URL: https://674c0a088a506af40a.gradio.live\n"
     ]
    },
    {
     "data": {
      "text/html": [
       "<div><iframe src=\"https://674c0a088a506af40a.gradio.live\" width=\"100%\" height=\"800\" allow=\"autoplay; camera; microphone; clipboard-read; clipboard-write;\" frameborder=\"0\" allowfullscreen></iframe></div>"
      ],
      "text/plain": [
       "<IPython.core.display.HTML object>"
      ]
     },
     "metadata": {},
     "output_type": "display_data"
    }
   ],
   "source": [
    "def add_vec_spec(x: Float[Tensor, \"32\"], y: Float[Tensor, \"32\"]) -> Float[Tensor, \"32 32\"]:\n",
    "    return x[None, :] + y[:, None]\n",
    "\n",
    "@triton.jit\n",
    "def add_vec_kernel(x_ptr, y_ptr, z_ptr, N0, N1, B0: tl.constexpr, B1: tl.constexpr):\n",
    "    i_range = tl.arange(0, B0)[None, :] \n",
    "    j_range = tl.arange(0, B1)[:, None]\n",
    "    \n",
    "    x = tl.load(x_ptr + i_range)\n",
    "    y = tl.load(y_ptr + j_range)\n",
    "    \n",
    "    z = x + y\n",
    "    z = tl.store(z_ptr + i_range + B0 * j_range, z)\n",
    "    \n",
    "test(add_vec_kernel, add_vec_spec, nelem={\"N0\": 32, \"N1\": 32})"
   ]
  },
  {
   "cell_type": "markdown",
   "id": "1ea0bd06-58f5-4088-af2a-f3c0d80f5e15",
   "metadata": {},
   "source": [
    "## Puzzle 4: Outer Vector Add Block\n",
    "\n",
    "Add two vectors. Uses one program block. Block size `B0` is always greater than the vector `x` length `N0`.\n",
    "Block size `B1` is always greater than vector `y` length `N1`.\n"
   ]
  },
  {
   "cell_type": "code",
   "execution_count": 4,
   "id": "4dbbe277-344b-4750-b9aa-f7b7da6303d4",
   "metadata": {},
   "outputs": [
    {
     "name": "stdout",
     "output_type": "stream",
     "text": [
      "Results match: True\n",
      "Running on local URL:  http://127.0.0.1:7860\n",
      "Running on public URL: https://9706a1f20c839923f8.gradio.live\n"
     ]
    },
    {
     "data": {
      "text/html": [
       "<div><iframe src=\"https://9706a1f20c839923f8.gradio.live\" width=\"100%\" height=\"800\" allow=\"autoplay; camera; microphone; clipboard-read; clipboard-write;\" frameborder=\"0\" allowfullscreen></iframe></div>"
      ],
      "text/plain": [
       "<IPython.core.display.HTML object>"
      ]
     },
     "metadata": {},
     "output_type": "display_data"
    }
   ],
   "source": [
    "def add_vec_block_spec(x: Float[Tensor, \"100\"], y: Float[Tensor, \"90\"]) -> Float[Tensor, \"90 100\"]:\n",
    "    return x[None, :] + y[:, None]\n",
    "\n",
    "@triton.jit\n",
    "def add_vec_block_kernel(x_ptr, y_ptr, z_ptr, N0, N1, B0: tl.constexpr, B1: tl.constexpr):\n",
    "    pid_0 = tl.program_id(0)\n",
    "    pid_1 = tl.program_id(1)\n",
    "\n",
    "    i_range = tl.arange(0, B0)[:, None] + pid_0 * B0\n",
    "    j_range = tl.arange(0, B1)[None, :] + pid_1 * B1\n",
    "    \n",
    "    x = tl.load(x_ptr + i_range, i_range < N0, 0)\n",
    "    y = tl.load(y_ptr + j_range, j_range < N1, 0)\n",
    "    \n",
    "    z = x + y\n",
    "    z = tl.store(z_ptr + i_range + N0 * j_range, z, (i_range < N0) & (j_range < N1))\n",
    "    \n",
    "test(add_vec_block_kernel, add_vec_block_spec, nelem={\"N0\": 100, \"N1\": 90})"
   ]
  },
  {
   "cell_type": "markdown",
   "id": "025a1cfa-6b4e-4456-acc4-d15aa35ec605",
   "metadata": {},
   "source": [
    "## Puzzle 5: Fused Op"
   ]
  },
  {
   "cell_type": "code",
   "execution_count": 5,
   "id": "b55955d0-b670-4dc4-9db1-5f28ce4f56fb",
   "metadata": {},
   "outputs": [
    {
     "name": "stdout",
     "output_type": "stream",
     "text": [
      "Results match: True\n",
      "Running on local URL:  http://127.0.0.1:7861\n",
      "Running on public URL: https://85c3ba9734618e518d.gradio.live\n"
     ]
    },
    {
     "data": {
      "text/html": [
       "<div><iframe src=\"https://85c3ba9734618e518d.gradio.live\" width=\"100%\" height=\"800\" allow=\"autoplay; camera; microphone; clipboard-read; clipboard-write;\" frameborder=\"0\" allowfullscreen></iframe></div>"
      ],
      "text/plain": [
       "<IPython.core.display.HTML object>"
      ]
     },
     "metadata": {},
     "output_type": "display_data"
    }
   ],
   "source": [
    "def mul_relu_block_spec(x: Float[Tensor, \"100\"], y: Float[Tensor, \"90\"]) -> Float[Tensor, \"90 100\"]:\n",
    "    return torch.relu(x[None, :] * y[:, None])\n",
    "\n",
    "@triton.jit\n",
    "def mul_relu_block_kernel(x_ptr, y_ptr, z_ptr, N0, N1, B0: tl.constexpr, B1: tl.constexpr):\n",
    "    pid_0 = tl.program_id(0)\n",
    "    pid_1 = tl.program_id(1)\n",
    "\n",
    "    i_range = tl.arange(0, B0)[:, None] + pid_0 * B0\n",
    "    j_range = tl.arange(0, B1)[None, :] + pid_1 * B1\n",
    "    \n",
    "    x = tl.load(x_ptr + i_range, i_range < N0, 0)\n",
    "    y = tl.load(y_ptr + j_range, j_range < N1, 0)\n",
    "    \n",
    "    z = x * y\n",
    "    z = tl.where(z > 0, z, 0)\n",
    "    \n",
    "    z = tl.store(z_ptr + i_range + N0 * j_range, z, (i_range < N0) & (j_range < N1))\n",
    "    \n",
    "test(mul_relu_block_kernel, mul_relu_block_spec, nelem={\"N0\": 100, \"N1\": 90})"
   ]
  },
  {
   "cell_type": "markdown",
   "id": "9e1677c8-a1e8-476c-bf04-8a6ba912c84d",
   "metadata": {},
   "source": [
    "## Puzzle 6: Fused Op Backwards"
   ]
  },
  {
   "cell_type": "code",
   "execution_count": null,
   "id": "9f06cbdd-1c9b-4b65-ae72-69c1dc599400",
   "metadata": {},
   "outputs": [],
   "source": [
    "def mul_relu_block_spec(x: Float[Tensor, \"100\"], y: Float[Tensor, \"90\"]) -> Float[Tensor, \"90 100\"]:\n",
    "    return torch.relu(x[None, :] * y[:, None])\n",
    "\n",
    "def mul_relu_block_back_spec(x: Float[Tensor, \"100\"], y: Float[Tensor, \"90\"], dz: Float[Tensor, \"90 100\"], \n",
    "                             dx: Float[Tensor, \"100\"], dy: Float[Tensor, \"90\"]) -> Float[Tensor, \"90 100\"]:\n",
    "    x = x.clone()\n",
    "    y = y.clone()\n",
    "    x = x.requires_grad_(True)\n",
    "    y = y.requires_grad_(True)\n",
    "    z = mul_relu_block_spec(x, y)\n",
    "    z.backward(dz)\n",
    "    dx[:] = x.grad\n",
    "    dy[:] = y.grad\n",
    "    return z\n",
    "\n",
    "\n",
    "@triton.jit\n",
    "def mul_relu_block_back_kernel(x_ptr, y_ptr, dz_ptr, dx_ptr, dy_ptr, z_ptr, N0, N1, B0: tl.constexpr, B1: tl.constexpr):\n",
    "    pid_0 = tl.program_id(0)\n",
    "    pid_1 = tl.program_id(1)\n",
    "\n",
    "    i_range = tl.arange(0, B0)[:, None] + pid_0 * B0\n",
    "    j_range = tl.arange(0, B1)[None, :] + pid_1 * B1\n",
    "    \n",
    "    x = tl.load(x_ptr + i_range, i_range < N0, 0)\n",
    "    y = tl.load(y_ptr + j_range, j_range < N1, 0)\n",
    "\n",
    "    # Forward\n",
    "    z = x * y\n",
    "    z = tl.where(z > 0, z, 0)\n",
    "    tl.store(z_ptr + i_range + N0 * j_range, z, (i_range < N0) & (j_range < N1))\n",
    "\n",
    "    dz = tl.load(dz_ptr + i_range + N0 * j_range, (i_range < N0) & (j_range < N1), 0)\n",
    "    dr = tl.where(z > 0, dz, 0)\n",
    "    dx = tl.sum(dr * y, 0, keep_dims=1)\n",
    "    dy = tl.sum(dr * x, 1, keep_dims=1)\n",
    "    \n",
    "    tl.store(dx_ptr + i_range, (i_range < N0))\n",
    "    tl.store(dy_ptr + j_range, (j_range < N1))\n",
    "    \n",
    "test(mul_relu_block_back_kernel, mul_relu_block_back_spec, nelem={\"N0\": 100, \"N1\": 90})\n"
   ]
  },
  {
   "cell_type": "markdown",
   "id": "86402b17-9fa4-489b-8c79-71d4ecb68ff2",
   "metadata": {},
   "source": [
    "## Puzzle 7: Fused Softmax"
   ]
  },
  {
   "cell_type": "code",
   "execution_count": 7,
   "id": "2c9a50fd-3774-420c-9fec-faac8fdcc7de",
   "metadata": {},
   "outputs": [
    {
     "name": "stdout",
     "output_type": "stream",
     "text": [
      "x_ptr [4, 80]\n",
      "z_ptr [4, 80]\n",
      "Results match: False\n",
      "[[(0.0, 0.0, 0.0), (0.0, 0.0, 31.0)]]\n",
      "[[(0, 0, 0), (0, 0, 31)]]\n",
      "[[(0.0, 0.0, 32.0), (0.0, 0.0, 63.0)]]\n",
      "[[(0, 0, 0), (0, 0, 31)]]\n",
      "[[(0.0, 0.0, 64.0), (0.0, 0.0, 79.0)]]\n",
      "[[(0, 0, 0), (0, 0, 15)]]\n",
      "[[(0.0, 0.0, 0.0), (0.0, 0.0, 31.0)]]\n",
      "[[(0, 0, 0), (0, 0, 31)]]\n",
      "[[(0.0, 0.0, 0.0), (0.0, 0.0, 31.0)]]\n",
      "[[(0, 0, 0), (0, 0, 31)]]\n",
      "[[(0.0, 0.0, 32.0), (0.0, 0.0, 63.0)]]\n",
      "[[(0, 0, 0), (0, 0, 31)]]\n",
      "[[(0.0, 0.0, 32.0), (0.0, 0.0, 63.0)]]\n",
      "[[(0, 0, 0), (0, 0, 31)]]\n",
      "[[(0.0, 0.0, 64.0), (0.0, 0.0, 79.0)]]\n",
      "[[(0, 0, 0), (0, 0, 15)]]\n",
      "[[(0.0, 0.0, 64.0), (0.0, 0.0, 79.0)]]\n",
      "[[(0, 0, 0), (0, 0, 15)]]\n",
      "Running on local URL:  http://127.0.0.1:7865\n",
      "Running on public URL: https://470f8758c1226a2067.gradio.live\n"
     ]
    },
    {
     "data": {
      "text/html": [
       "<div><iframe src=\"https://470f8758c1226a2067.gradio.live\" width=\"100%\" height=\"800\" allow=\"autoplay; camera; microphone; clipboard-read; clipboard-write;\" frameborder=\"0\" allowfullscreen></iframe></div>"
      ],
      "text/plain": [
       "<IPython.core.display.HTML object>"
      ]
     },
     "metadata": {},
     "output_type": "display_data"
    },
    {
     "name": "stdout",
     "output_type": "stream",
     "text": [
      "[[(0.0, 0.0, 0.0), (0.0, 0.0, 31.0)]]\n",
      "[[(0, 0, 0), (0, 0, 31)]]\n",
      "[[(0.0, 0.0, 32.0), (0.0, 0.0, 63.0)]]\n",
      "[[(0, 0, 0), (0, 0, 31)]]\n",
      "[[(0.0, 0.0, 64.0), (0.0, 0.0, 79.0)]]\n",
      "[[(0, 0, 0), (0, 0, 15)]]\n",
      "[[(0.0, 0.0, 0.0), (0.0, 0.0, 31.0)]]\n",
      "[[(0, 0, 0), (0, 0, 31)]]\n",
      "[[(0.0, 0.0, 0.0), (0.0, 0.0, 31.0)]]\n",
      "[[(0, 0, 0), (0, 0, 31)]]\n",
      "[[(0.0, 0.0, 32.0), (0.0, 0.0, 63.0)]]\n",
      "[[(0, 0, 0), (0, 0, 31)]]\n",
      "[[(0.0, 0.0, 32.0), (0.0, 0.0, 63.0)]]\n",
      "[[(0, 0, 0), (0, 0, 31)]]\n",
      "[[(0.0, 0.0, 64.0), (0.0, 0.0, 79.0)]]\n",
      "[[(0, 0, 0), (0, 0, 15)]]\n",
      "[[(0.0, 0.0, 64.0), (0.0, 0.0, 79.0)]]\n",
      "[[(0, 0, 0), (0, 0, 15)]]\n"
     ]
    }
   ],
   "source": [
    "def softmax_spec(x: Float[Tensor, \"4 80\"]) -> Float[Tensor, \"4 80\"]:\n",
    "    x_max = x.max(1, keepdim=True)[0]\n",
    "    x = x - x_max\n",
    "    x_exp = x.exp() \n",
    "    return x_exp / x_exp.sum(1, keepdim=True)\n",
    "\n",
    "@triton.jit\n",
    "def softmax_kernel(x_ptr, z_ptr, N0, N1, TN1, B0: tl.constexpr, B1: tl.constexpr):\n",
    "    pid_0 = tl.program_id(0)\n",
    "    x_max = -1e9\n",
    "    for i in range(0, TN1, B1):\n",
    "        i_range = tl.arange(0, B1)[None, :] + i\n",
    "        x = tl.load(x_ptr + TN1* pid_0 + i_range, i_range < TN1, -1e9)\n",
    "        chunk_max = tl.max(x, 1)[:, None]\n",
    "        x_max = tl.where(chunk_max > x_max, chunk_max, x_max)\n",
    "\n",
    "    for i in range(0, TN1, B1):\n",
    "        i_range = tl.arange(0, B1)[None, :] + i\n",
    "        x = tl.load(x_ptr + TN1* pid_0 + i_range, i_range < TN1, -1e9) - x_max\n",
    "        x_exp = tl.exp(x)\n",
    "        z = x_exp / tl.sum(x_exp, 1)[:, None]\n",
    "        tl.store(z_ptr + TN1 * pid_0 + i_range, z, i_range < TN1)\n",
    "    \n",
    "test(softmax_kernel, softmax_spec, B={\"B0\": 1, \"B1\": 32}, nelem={\"N0\": 4, \"N1\": 32, \"TN1\": 80})\n"
   ]
  },
  {
   "cell_type": "markdown",
   "id": "ae12e14b-0da4-414c-9574-ab747b2be387",
   "metadata": {},
   "source": [
    "## Puzzle 8: Manual Conv."
   ]
  },
  {
   "cell_type": "code",
   "execution_count": 9,
   "id": "82214261-9c28-4d97-87e4-816c9cd4e6b2",
   "metadata": {},
   "outputs": [
    {
     "name": "stdout",
     "output_type": "stream",
     "text": [
      "x_ptr [16, 16]\n",
      "k_ptr [16, 4, 4]\n",
      "z_ptr [16, 16, 16]\n",
      "Unexpected exception formatting exception. Falling back to standard exception\n"
     ]
    },
    {
     "name": "stderr",
     "output_type": "stream",
     "text": [
      "Traceback (most recent call last):\n",
      "  File \"/home/srush/Projects/triton-viz/.venv/lib/python3.10/site-packages/IPython/core/interactiveshell.py\", line 3577, in run_code\n",
      "    exec(code_obj, self.user_global_ns, self.user_ns)\n",
      "  File \"/tmp/ipykernel_2371600/1501580715.py\", line 19, in <module>\n",
      "    test(conv2d_kernel, conv2d_spec, B={\"B0\": 1, \"B1\": 32}, nelem={\"N0\": 4, \"N1\": 32, \"TN1\": 80})\n",
      "  File \"/tmp/ipykernel_2371600/3277322476.py\", line 35, in test\n",
      "    triton_viz.trace(puzzle)[grid](*tt_args, **B, **nelem)\n",
      "  File \"/home/srush/Projects/triton-viz/.venv/lib/python3.10/site-packages/triton/runtime/jit.py\", line 180, in <lambda>\n",
      "    return lambda *args, **kwargs: self.run(grid=grid, warmup=False, *args, **kwargs)\n",
      "  File \"/home/srush/Projects/triton-viz/triton_viz/trace.py\", line 16, in run\n",
      "    return self._fn.run(*args, **kwargs)\n",
      "  File \"/home/srush/Projects/triton-viz/.venv/lib/python3.10/site-packages/triton/runtime/interpreter.py\", line 617, in run\n",
      "    return GridExecutor(self.fn, self.arg_names, grid)(*args, **kwargs)\n",
      "  File \"/home/srush/Projects/triton-viz/triton_viz/interpreter.py\", line 163, in _grid_executor_call\n",
      "    self.fn(**call_args)\n",
      "  File \"/tmp/ipykernel_2371600/1501580715.py\", line 8, in conv2d_kernel\n",
      "    oc_range = tl.arange(0, B2)[:, None]\n",
      "NameError: name 'B2' is not defined\n",
      "\n",
      "During handling of the above exception, another exception occurred:\n",
      "\n",
      "Traceback (most recent call last):\n",
      "  File \"/home/srush/Projects/triton-viz/.venv/lib/python3.10/site-packages/IPython/core/interactiveshell.py\", line 2168, in showtraceback\n",
      "    stb = self.InteractiveTB.structured_traceback(\n",
      "  File \"/home/srush/Projects/triton-viz/.venv/lib/python3.10/site-packages/IPython/core/ultratb.py\", line 1454, in structured_traceback\n",
      "    return FormattedTB.structured_traceback(\n",
      "  File \"/home/srush/Projects/triton-viz/.venv/lib/python3.10/site-packages/IPython/core/ultratb.py\", line 1345, in structured_traceback\n",
      "    return VerboseTB.structured_traceback(\n",
      "  File \"/home/srush/Projects/triton-viz/.venv/lib/python3.10/site-packages/IPython/core/ultratb.py\", line 1192, in structured_traceback\n",
      "    formatted_exception = self.format_exception_as_a_whole(etype, evalue, etb, number_of_lines_of_context,\n",
      "  File \"/home/srush/Projects/triton-viz/.venv/lib/python3.10/site-packages/IPython/core/ultratb.py\", line 1082, in format_exception_as_a_whole\n",
      "    self.get_records(etb, number_of_lines_of_context, tb_offset) if etb else []\n",
      "  File \"/home/srush/Projects/triton-viz/.venv/lib/python3.10/site-packages/IPython/core/ultratb.py\", line 1150, in get_records\n",
      "    mod = inspect.getmodule(cf.tb_frame)\n",
      "  File \"/usr/lib/python3.10/inspect.py\", line 861, in getmodule\n",
      "    file = getabsfile(object, _filename)\n",
      "  File \"/usr/lib/python3.10/inspect.py\", line 844, in getabsfile\n",
      "    _filename = getsourcefile(object) or getfile(object)\n",
      "  File \"/usr/lib/python3.10/inspect.py\", line 829, in getsourcefile\n",
      "    module = getmodule(object, filename)\n",
      "  File \"/usr/lib/python3.10/inspect.py\", line 875, in getmodule\n",
      "    f = getabsfile(module)\n",
      "  File \"/usr/lib/python3.10/inspect.py\", line 844, in getabsfile\n",
      "    _filename = getsourcefile(object) or getfile(object)\n",
      "  File \"/usr/lib/python3.10/inspect.py\", line 820, in getsourcefile\n",
      "    if any(filename.endswith(s) for s in all_bytecode_suffixes):\n",
      "  File \"/usr/lib/python3.10/inspect.py\", line 820, in <genexpr>\n",
      "    if any(filename.endswith(s) for s in all_bytecode_suffixes):\n",
      "AttributeError: 'function' object has no attribute 'endswith'\n"
     ]
    }
   ],
   "source": [
    "def conv2d_spec(x: Float[Tensor, \"16 16\"], k: Float[Tensor, \"16 4 4\"]) -> Float[Tensor, \"16 16 16\"]:\n",
    "    pass\n",
    "\n",
    "@triton.jit\n",
    "def conv2d_kernel(x_ptr, k_ptr, z_ptr, N0, N1, TN1, B0: tl.constexpr, B1: tl.constexpr):\n",
    "    pid_0 = tl.program_id(0)\n",
    "    k_range = tl.arange(0, B0)[None, :]\n",
    "    oc_range = tl.arange(0, B2)[:, None]\n",
    "    w = 16\n",
    "    k2_range = k_rane + (k_range // N0) * w \n",
    "    k = tl.load(k_ptr + k_range + N0 * N1 * oc)\n",
    "    for i in range(0, kw):\n",
    "        for j in range(0, kh):\n",
    "            r = k2_range + i + j * w\n",
    "            x = tl.load(x_ptr + r, r < 16* 16 , 0)\n",
    "            out = tl.dot(x, k)\n",
    "            tl.store(z_ptr + r, r < 16*16)\n",
    "    \n",
    "test(conv2d_kernel, conv2d_spec, B={\"B0\": 1, \"B1\": 32}, nelem={\"N0\": 4, \"N1\": 32, \"TN1\": 80})"
   ]
  },
  {
   "cell_type": "markdown",
   "id": "5750a41e-8abd-431d-9da8-0ef0ff9207df",
   "metadata": {},
   "source": [
    " "
   ]
  },
  {
   "cell_type": "code",
   "execution_count": null,
   "id": "8a2a38d4-2595-4eae-b042-37172b21a0ed",
   "metadata": {},
   "outputs": [],
   "source": []
  },
  {
   "cell_type": "markdown",
   "id": "d2752542-0161-48e2-9efc-f7a730ebc2a6",
   "metadata": {},
   "source": [
    "## Puzzle 9: Matrix Mult"
   ]
  },
  {
   "cell_type": "code",
   "execution_count": null,
   "id": "30420e16-eb57-46c4-8a92-e7d8381cc567",
   "metadata": {},
   "outputs": [],
   "source": [
    "@triton_viz.trace\n",
    "@triton.jit\n",
    "def dot_kernel(x_ptr, y_ptr, z_ptr, BLOCK_SIZE: tl.constexpr):\n",
    "    r = tl.program_id(0) * BLOCK_SIZE\n",
    "    c = tl.program_id(1) * BLOCK_SIZE\n",
    "    b = tl.program_id(2)\n",
    "    bid = b * 4 * BLOCK_SIZE * BLOCK_SIZE\n",
    "    x_val = tl.load(\n",
    "        x_ptr\n",
    "        + bid\n",
    "        + (r + tl.arange(0, BLOCK_SIZE)[:, None]) * 2 * BLOCK_SIZE\n",
    "        + tl.arange(0, BLOCK_SIZE)[None, :]\n",
    "    )\n",
    "    y_val = tl.load(\n",
    "        y_ptr\n",
    "        + bid\n",
    "        + tl.arange(0, BLOCK_SIZE)[:, None] * 2 * BLOCK_SIZE\n",
    "        + tl.arange(0, BLOCK_SIZE)[None, :]\n",
    "        + c\n",
    "    )\n",
    "    z = tl.dot(x_val, y_val)\n",
    "    x_val = tl.load(\n",
    "        x_ptr\n",
    "        + bid\n",
    "        + (r + tl.arange(0, BLOCK_SIZE)[:, None]) * 2 * BLOCK_SIZE\n",
    "        + tl.arange(0, BLOCK_SIZE)[None, :]\n",
    "        + BLOCK_SIZE\n",
    "    )\n",
    "    y_val = tl.load(\n",
    "        y_ptr\n",
    "        + bid\n",
    "        + (BLOCK_SIZE + tl.arange(0, BLOCK_SIZE)[:, None]) * 2 * BLOCK_SIZE\n",
    "        + tl.arange(0, BLOCK_SIZE)[None, :]\n",
    "        + c\n",
    "    )\n",
    "    z = z + tl.dot(x_val, y_val)\n",
    "    tl.store(\n",
    "        z_ptr\n",
    "        + (b * (2 * BLOCK_SIZE) * (2 * BLOCK_SIZE - 10))\n",
    "        + (r + tl.arange(0, BLOCK_SIZE)[:, None]) * (2 * BLOCK_SIZE - 10)\n",
    "        + tl.arange(0, BLOCK_SIZE)[None, :]\n",
    "        + c,\n",
    "        z,\n",
    "        mask=tl.arange(0, BLOCK_SIZE)[None, :] + c < 2 * BLOCK_SIZE - 10,\n",
    "    )\n",
    "\n",
    "\n",
    "def perform_dot(device, BATCH, BLOCK_SIZE):\n",
    "    x = torch.randn((BATCH, 2 * BLOCK_SIZE, 2 * BLOCK_SIZE), device=device)\n",
    "    y = torch.randn((BATCH, 2 * BLOCK_SIZE, 2 * BLOCK_SIZE), device=device)\n",
    "    z = torch.zeros((BATCH, 2 * BLOCK_SIZE, 2 * BLOCK_SIZE - 10), device=device)\n",
    "    dot_kernel[(2, 2, BATCH)](x, y, z, BLOCK_SIZE)\n",
    "    return x, y, z\n",
    "BLOCK_SIZE = 32\n",
    "input_matrix1, input_matrix2, result = perform_dot(device, 12, BLOCK_SIZE)\n",
    "triton_viz.launch()"
   ]
  },
  {
   "cell_type": "markdown",
   "id": "d8917111-6ceb-4491-9f7a-733dd4f29a04",
   "metadata": {},
   "source": [
    "## Puzzle 10: Quantized Matrix Mult \n",
    "\n",
    "GPT-Q like puzzles"
   ]
  },
  {
   "cell_type": "markdown",
   "id": "7006b93f-1dbe-469a-8627-50159fe38e1b",
   "metadata": {},
   "source": [
    "## Puzzle 11: Flash Attention \n",
    "\n",
    "Long reduction. "
   ]
  }
 ],
 "metadata": {
  "kernelspec": {
   "display_name": "tritonviz",
   "language": "python",
   "name": "tritonviz"
  },
  "language_info": {
   "codemirror_mode": {
    "name": "ipython",
    "version": 3
   },
   "file_extension": ".py",
   "mimetype": "text/x-python",
   "name": "python",
   "nbconvert_exporter": "python",
   "pygments_lexer": "ipython3",
   "version": "3.10.12"
  }
 },
 "nbformat": 4,
 "nbformat_minor": 5
}
