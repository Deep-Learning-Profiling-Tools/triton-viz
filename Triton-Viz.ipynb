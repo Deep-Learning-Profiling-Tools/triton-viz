{
 "cells": [
  {
   "cell_type": "markdown",
   "id": "05199f6b-13f0-49af-9a57-d4e98f80ef47",
   "metadata": {},
   "source": [
    "# Triton Puzzles\n",
    "\n"
   ]
  },
  {
   "cell_type": "code",
   "execution_count": 6,
   "id": "88e71c24-2a2b-4616-9581-4f93eeb2a8f6",
   "metadata": {},
   "outputs": [],
   "source": [
    "import torch\n",
    "import triton\n",
    "from torch import Tensor\n",
    "import triton.language as tl\n",
    "import triton_viz\n",
    "from triton_viz.interpreter import record_builder\n",
    "import jaxtyping \n",
    "import inspect\n",
    "from jaxtyping import Float\n",
    "\n",
    "def test(puzzle, puzzle_spec, nelem={}, B={\"B0\": 32}):\n",
    "    B = dict(B)\n",
    "    if \"N1\" in nelem:\n",
    "        B[\"B1\"] = 32\n",
    "    if \"N2\" in nelem:\n",
    "        B[\"B2\"] = 32\n",
    "        \n",
    "    triton_viz.interpreter.record_builder.reset()\n",
    "    torch.manual_seed(0)\n",
    "    signature = inspect.signature(puzzle_spec)\n",
    "    args = {}\n",
    "    for n, p in signature.parameters.items():\n",
    "        args[n + \"_ptr\"] = [d.size for d in p.annotation.dims]\n",
    "    args[\"z_ptr\"] = [d.size for d in signature.return_annotation.dims]\n",
    "    \n",
    "    tt_args = []\n",
    "    for k, v in args.items():\n",
    "        tt_args.append(torch.rand(*v))\n",
    "    grid = lambda meta: (triton.cdiv(nelem[\"N0\"], meta[\"B0\"]), \n",
    "                         triton.cdiv(nelem.get(\"N1\", 1), meta.get(\"B1\", 1)), \n",
    "                         triton.cdiv(nelem.get(\"N2\", 1), meta.get(\"B2\", 1)))   \n",
    "\n",
    "    for k, v in args.items():\n",
    "        print(k, v)\n",
    "    triton_viz.trace(puzzle)[grid](*tt_args, **B, **nelem)\n",
    "    z = tt_args[-1]\n",
    "    tt_args = tt_args[:-1]\n",
    "    z_ = puzzle_spec(*tt_args)\n",
    "    match = torch.allclose(z, z_)\n",
    "    print(\"Results match:\",  match)\n",
    "    if not match:\n",
    "        print(z)\n",
    "        print(z_)\n",
    "    triton_viz.launch()"
   ]
  },
  {
   "cell_type": "markdown",
   "id": "f617b944-cf73-4bad-b7d6-1cc6d17879a9",
   "metadata": {},
   "source": [
    "## Puzzle 1: Constant Add\n",
    "\n",
    "Add a constant to a vector. Uses one program block. Block size `B0` is always the same as vector length `N0`.\n"
   ]
  },
  {
   "cell_type": "code",
   "execution_count": 3,
   "id": "3d5fdae5-156e-48e6-abb3-9abe9d258229",
   "metadata": {},
   "outputs": [
    {
     "name": "stdout",
     "output_type": "stream",
     "text": [
      "Results match: True\n",
      "Running on local URL:  http://127.0.0.1:7860\n",
      "Running on public URL: https://3d9851881489f442ca.gradio.live\n"
     ]
    },
    {
     "data": {
      "text/html": [
       "<div><iframe src=\"https://3d9851881489f442ca.gradio.live\" width=\"100%\" height=\"800\" allow=\"autoplay; camera; microphone; clipboard-read; clipboard-write;\" frameborder=\"0\" allowfullscreen></iframe></div>"
      ],
      "text/plain": [
       "<IPython.core.display.HTML object>"
      ]
     },
     "metadata": {},
     "output_type": "display_data"
    }
   ],
   "source": [
    "def add_spec(x: Float[Tensor, \"32\"]) -> Float[Tensor, \"32\"]:\n",
    "    return x + 10.\n",
    "\n",
    "@triton.jit\n",
    "def add_kernel(x_ptr, z_ptr, N0, B0: tl.constexpr):\n",
    "    range = tl.arange(0, B0)\n",
    "    x = tl.load(x_ptr + range)\n",
    "    z = x + 10\n",
    "    z = tl.store(z_ptr + range, z)\n",
    "\n",
    "test(add_kernel, add_spec, nelem={\"N0\": 32})"
   ]
  },
  {
   "cell_type": "markdown",
   "id": "863aa741-98ba-4370-970a-7378a075fadb",
   "metadata": {},
   "source": [
    "## Puzzle 2: Constant Add Block\n",
    "\n",
    "Add a constant to a vector. Uses one program block. Block size `B0` is always the same as vector length `N0`.\n",
    "\n"
   ]
  },
  {
   "cell_type": "code",
   "execution_count": 4,
   "id": "74baeaed-82d0-4814-b1fc-e9a51237cf7e",
   "metadata": {},
   "outputs": [
    {
     "name": "stdout",
     "output_type": "stream",
     "text": [
      "Results match: True\n",
      "Running on local URL:  http://127.0.0.1:7861\n",
      "Running on public URL: https://c6ee2b6ec3dcfcb629.gradio.live\n"
     ]
    },
    {
     "data": {
      "text/html": [
       "<div><iframe src=\"https://c6ee2b6ec3dcfcb629.gradio.live\" width=\"100%\" height=\"800\" allow=\"autoplay; camera; microphone; clipboard-read; clipboard-write;\" frameborder=\"0\" allowfullscreen></iframe></div>"
      ],
      "text/plain": [
       "<IPython.core.display.HTML object>"
      ]
     },
     "metadata": {},
     "output_type": "display_data"
    }
   ],
   "source": [
    "def add2_spec(x: Float[Tensor, \"200\"]) -> Float[Tensor, \"200\"]:\n",
    "    return x + 10.\n",
    "\n",
    "@triton.jit\n",
    "def add_mask2_kernel(x_ptr, z_ptr, N0, B0: tl.constexpr):\n",
    "    pid = tl.program_id(0)\n",
    "    range = pid * B0 + tl.arange(0, B0)\n",
    "    x = tl.load(x_ptr + range, range < N0, 0\n",
    "               )\n",
    "    z = x + 10\n",
    "    z = tl.store(z_ptr + range, \n",
    "                 z, range < N0)\n",
    "    \n",
    "test(add_mask2_kernel, add2_spec, nelem={\"N0\": 200})"
   ]
  },
  {
   "cell_type": "markdown",
   "id": "639dbf91-18b1-4bc6-8624-609b1031e9e1",
   "metadata": {},
   "source": [
    "## Puzzle 3: Outer Vector Add\n",
    "\n",
    "Add two vectors. Uses one program block. Block size `B0` is always the same as vector `x` length `N0`.\n",
    "Block size `B1` is always the same as vector `y` length `N1`.\n"
   ]
  },
  {
   "cell_type": "code",
   "execution_count": 7,
   "id": "5a977409-3fcb-4b72-abee-f09d02bf6f70",
   "metadata": {},
   "outputs": [
    {
     "name": "stdout",
     "output_type": "stream",
     "text": [
      "Results match: True\n",
      "Running on local URL:  http://127.0.0.1:7863\n",
      "Running on public URL: https://674c0a088a506af40a.gradio.live\n"
     ]
    },
    {
     "data": {
      "text/html": [
       "<div><iframe src=\"https://674c0a088a506af40a.gradio.live\" width=\"100%\" height=\"800\" allow=\"autoplay; camera; microphone; clipboard-read; clipboard-write;\" frameborder=\"0\" allowfullscreen></iframe></div>"
      ],
      "text/plain": [
       "<IPython.core.display.HTML object>"
      ]
     },
     "metadata": {},
     "output_type": "display_data"
    }
   ],
   "source": [
    "def add_vec_spec(x: Float[Tensor, \"32\"], y: Float[Tensor, \"32\"]) -> Float[Tensor, \"32 32\"]:\n",
    "    return x[None, :] + y[:, None]\n",
    "\n",
    "@triton.jit\n",
    "def add_vec_kernel(x_ptr, y_ptr, z_ptr, N0, N1, B0: tl.constexpr, B1: tl.constexpr):\n",
    "    i_range = tl.arange(0, B0)[None, :] \n",
    "    j_range = tl.arange(0, B1)[:, None]\n",
    "    \n",
    "    x = tl.load(x_ptr + i_range)\n",
    "    y = tl.load(y_ptr + j_range)\n",
    "    \n",
    "    z = x + y\n",
    "    z = tl.store(z_ptr + i_range + B0 * j_range, z)\n",
    "    \n",
    "test(add_vec_kernel, add_vec_spec, nelem={\"N0\": 32, \"N1\": 32})"
   ]
  },
  {
   "cell_type": "markdown",
   "id": "1ea0bd06-58f5-4088-af2a-f3c0d80f5e15",
   "metadata": {},
   "source": [
    "## Puzzle 4: Outer Vector Add Block\n",
    "\n",
    "Add two vectors. Uses one program block. Block size `B0` is always greater than the vector `x` length `N0`.\n",
    "Block size `B1` is always greater than vector `y` length `N1`.\n"
   ]
  },
  {
   "cell_type": "code",
   "execution_count": 4,
   "id": "4dbbe277-344b-4750-b9aa-f7b7da6303d4",
   "metadata": {},
   "outputs": [
    {
     "name": "stdout",
     "output_type": "stream",
     "text": [
      "Results match: True\n",
      "Running on local URL:  http://127.0.0.1:7860\n",
      "Running on public URL: https://9706a1f20c839923f8.gradio.live\n"
     ]
    },
    {
     "data": {
      "text/html": [
       "<div><iframe src=\"https://9706a1f20c839923f8.gradio.live\" width=\"100%\" height=\"800\" allow=\"autoplay; camera; microphone; clipboard-read; clipboard-write;\" frameborder=\"0\" allowfullscreen></iframe></div>"
      ],
      "text/plain": [
       "<IPython.core.display.HTML object>"
      ]
     },
     "metadata": {},
     "output_type": "display_data"
    }
   ],
   "source": [
    "def add_vec_block_spec(x: Float[Tensor, \"100\"], y: Float[Tensor, \"90\"]) -> Float[Tensor, \"90 100\"]:\n",
    "    return x[None, :] + y[:, None]\n",
    "\n",
    "@triton.jit\n",
    "def add_vec_block_kernel(x_ptr, y_ptr, z_ptr, N0, N1, B0: tl.constexpr, B1: tl.constexpr):\n",
    "    pid_0 = tl.program_id(0)\n",
    "    pid_1 = tl.program_id(1)\n",
    "\n",
    "    i_range = tl.arange(0, B0)[:, None] + pid_0 * B0\n",
    "    j_range = tl.arange(0, B1)[None, :] + pid_1 * B1\n",
    "    \n",
    "    x = tl.load(x_ptr + i_range, i_range < N0, 0)\n",
    "    y = tl.load(y_ptr + j_range, j_range < N1, 0)\n",
    "    \n",
    "    z = x + y\n",
    "    z = tl.store(z_ptr + i_range + N0 * j_range, z, (i_range < N0) & (j_range < N1))\n",
    "    \n",
    "test(add_vec_block_kernel, add_vec_block_spec, nelem={\"N0\": 100, \"N1\": 90})"
   ]
  },
  {
   "cell_type": "markdown",
   "id": "025a1cfa-6b4e-4456-acc4-d15aa35ec605",
   "metadata": {},
   "source": [
    "## Puzzle 5: Fused Op"
   ]
  },
  {
   "cell_type": "code",
   "execution_count": 5,
   "id": "b55955d0-b670-4dc4-9db1-5f28ce4f56fb",
   "metadata": {},
   "outputs": [
    {
     "name": "stdout",
     "output_type": "stream",
     "text": [
      "x_ptr [100]\n",
      "y_ptr [90]\n",
      "z_ptr [90, 100]\n",
      "Results match: True\n",
      "Running on local URL:  http://127.0.0.1:7860\n",
      "Running on public URL: https://4dbb2aeb4405a9b24f.gradio.live\n"
     ]
    },
    {
     "data": {
      "text/html": [
       "<div><iframe src=\"https://4dbb2aeb4405a9b24f.gradio.live\" width=\"100%\" height=\"800\" allow=\"autoplay; camera; microphone; clipboard-read; clipboard-write;\" frameborder=\"0\" allowfullscreen></iframe></div>"
      ],
      "text/plain": [
       "<IPython.core.display.HTML object>"
      ]
     },
     "metadata": {},
     "output_type": "display_data"
    }
   ],
   "source": [
    "def mul_relu_block_spec(x: Float[Tensor, \"100\"], y: Float[Tensor, \"90\"]) -> Float[Tensor, \"90 100\"]:\n",
    "    return torch.relu(x[None, :] * y[:, None])\n",
    "\n",
    "@triton.jit\n",
    "def mul_relu_block_kernel(x_ptr, y_ptr, z_ptr, N0, N1, B0: tl.constexpr, B1: tl.constexpr):\n",
    "    pid_0 = tl.program_id(0)\n",
    "    pid_1 = tl.program_id(1)\n",
    "\n",
    "    i_range = tl.arange(0, B0)[:, None] + pid_0 * B0\n",
    "    j_range = tl.arange(0, B1)[None, :] + pid_1 * B1\n",
    "    \n",
    "    x = tl.load(x_ptr + i_range, i_range < N0, 0)\n",
    "    y = tl.load(y_ptr + j_range, j_range < N1, 0)\n",
    "    \n",
    "    z = x * y\n",
    "    z = tl.where(z > 0, z, 0)\n",
    "    \n",
    "    z = tl.store(z_ptr + i_range + N0 * j_range, z, (i_range < N0) & (j_range < N1))\n",
    "    \n",
    "test(mul_relu_block_kernel, mul_relu_block_spec, nelem={\"N0\": 100, \"N1\": 90})"
   ]
  },
  {
   "cell_type": "markdown",
   "id": "9e1677c8-a1e8-476c-bf04-8a6ba912c84d",
   "metadata": {},
   "source": [
    "## Puzzle 6: Fused Op Backwards"
   ]
  },
  {
   "cell_type": "code",
   "execution_count": 5,
   "id": "9f06cbdd-1c9b-4b65-ae72-69c1dc599400",
   "metadata": {},
   "outputs": [
    {
     "name": "stdout",
     "output_type": "stream",
     "text": [
      "x_ptr [90, 100]\n",
      "y_ptr [90]\n",
      "dz_ptr [90, 100]\n",
      "z_ptr [90, 100]\n",
      "Results match: True\n",
      "Running on local URL:  http://127.0.0.1:7862\n",
      "Running on public URL: https://fd12f8adccb27f9f24.gradio.live\n"
     ]
    },
    {
     "data": {
      "text/html": [
       "<div><iframe src=\"https://fd12f8adccb27f9f24.gradio.live\" width=\"100%\" height=\"800\" allow=\"autoplay; camera; microphone; clipboard-read; clipboard-write;\" frameborder=\"0\" allowfullscreen></iframe></div>"
      ],
      "text/plain": [
       "<IPython.core.display.HTML object>"
      ]
     },
     "metadata": {},
     "output_type": "display_data"
    }
   ],
   "source": [
    "def mul_relu_block_back_spec(x: Float[Tensor, \"90 100\"], y: Float[Tensor, \"90\"], dz: Float[Tensor, \"90 100\"]) -> Float[Tensor, \"90 100\"]:\n",
    "    x = x.clone()\n",
    "    y = y.clone()\n",
    "    x = x.requires_grad_(True)\n",
    "    y = y.requires_grad_(True)\n",
    "    z = torch.relu(x * y[:, None])\n",
    "    z.backward(dz)\n",
    "    dx = x.grad\n",
    "    return dx\n",
    "\n",
    "@triton.jit\n",
    "def mul_relu_block_back_kernel(x_ptr, y_ptr, dz_ptr, dx_ptr, N0, N1, B0: tl.constexpr, B1: tl.constexpr):\n",
    "    pid_0 = tl.program_id(0)\n",
    "    pid_1 = tl.program_id(1)\n",
    "\n",
    "    i_range = tl.arange(0, B0)[None, :] + pid_0 * B0\n",
    "    j_range = tl.arange(0, B1)[:, None] + pid_1 * B1\n",
    "    \n",
    "    x = tl.load(x_ptr + i_range + N0 * j_range, (i_range < N0) & (j_range < N1), 0)\n",
    "    y = tl.load(y_ptr + j_range, j_range < N1, 0)\n",
    "\n",
    "    # Forward\n",
    "    z = x * y\n",
    "    dz = tl.load(dz_ptr + i_range + N0 * j_range, (i_range < N0) & (j_range < N1), 0)\n",
    "    dr = tl.where(z > 0, dz, 0)\n",
    "    dx = dr * y\n",
    "    tl.store(dx_ptr + i_range + N0 * j_range, dx, (i_range < N0) & (j_range < N1))\n",
    "    \n",
    "test(mul_relu_block_back_kernel, mul_relu_block_back_spec, nelem={\"N0\": 100, \"N1\": 90})\n"
   ]
  },
  {
   "cell_type": "markdown",
   "id": "86402b17-9fa4-489b-8c79-71d4ecb68ff2",
   "metadata": {},
   "source": [
    "## Puzzle 7: Fused Softmax"
   ]
  },
  {
   "cell_type": "code",
   "execution_count": 8,
   "id": "2c9a50fd-3774-420c-9fec-faac8fdcc7de",
   "metadata": {},
   "outputs": [
    {
     "name": "stdout",
     "output_type": "stream",
     "text": [
      "x_ptr [4, 200]\n",
      "z_ptr [4, 200]\n",
      "Results match: True\n",
      "Running on local URL:  http://127.0.0.1:7864\n",
      "Running on public URL: https://c088e7020ccd7d9071.gradio.live\n"
     ]
    },
    {
     "data": {
      "text/html": [
       "<div><iframe src=\"https://c088e7020ccd7d9071.gradio.live\" width=\"100%\" height=\"800\" allow=\"autoplay; camera; microphone; clipboard-read; clipboard-write;\" frameborder=\"0\" allowfullscreen></iframe></div>"
      ],
      "text/plain": [
       "<IPython.core.display.HTML object>"
      ]
     },
     "metadata": {},
     "output_type": "display_data"
    }
   ],
   "source": [
    "def softmax_spec(x: Float[Tensor, \"4 200\"]) -> Float[Tensor, \"4 200\"]:\n",
    "    x_max = x.max(1, keepdim=True)[0]\n",
    "    x = x - x_max\n",
    "    x_exp = x.exp() \n",
    "    return x_exp / x_exp.sum(1, keepdim=True)\n",
    "\n",
    "@triton.jit\n",
    "def softmax_kernel(x_ptr, z_ptr, N0, N1, TN1, B0: tl.constexpr, B1: tl.constexpr):\n",
    "    pid_0 = tl.program_id(0)\n",
    "    x_max = -1e9\n",
    "    for i in range(0, TN1, B1):\n",
    "        i_range = tl.arange(0, B1)[None, :] + i\n",
    "        offset = TN1 * pid_0 + i_range\n",
    "        x = tl.load(x_ptr + offset, i_range < TN1, -1e9)\n",
    "        chunk_max = tl.max(x, 1)[:, None]\n",
    "        x_max = tl.where(chunk_max > x_max, chunk_max, x_max)\n",
    "\n",
    "    partition = 0\n",
    "    for i in range(0, TN1, B1):\n",
    "        i_range = tl.arange(0, B1)[None, :] + i\n",
    "        offset = TN1 * pid_0 + i_range\n",
    "        x = tl.load(x_ptr + offset, i_range < TN1, -1e9) - x_max\n",
    "        partition = partition + tl.sum(tl.exp(x), 1)[:, None]\n",
    "    \n",
    "    for i in range(0, TN1, B1):\n",
    "        i_range = tl.arange(0, B1)[None, :] + i\n",
    "        offset = TN1 * pid_0 + i_range\n",
    "        x = tl.load(x_ptr + offset, i_range < TN1, -1e9) - x_max\n",
    "        x_exp = tl.exp(x)\n",
    "        z = x_exp / partition\n",
    "        tl.store(z_ptr + offset, z, i_range < TN1)\n",
    "    \n",
    "test(softmax_kernel, softmax_spec, B={\"B0\": 1, \"B1\": 32}, \n",
    "     nelem={\"N0\": 4, \"N1\": 32, \"TN1\": 200})\n"
   ]
  },
  {
   "cell_type": "markdown",
   "id": "ae12e14b-0da4-414c-9574-ab747b2be387",
   "metadata": {},
   "source": [
    "## Puzzle 8: Manual Conv."
   ]
  },
  {
   "cell_type": "code",
   "execution_count": 3,
   "id": "82214261-9c28-4d97-87e4-816c9cd4e6b2",
   "metadata": {},
   "outputs": [
    {
     "name": "stdout",
     "output_type": "stream",
     "text": [
      "x_ptr [4, 8, 8]\n",
      "k_ptr [4, 4]\n",
      "z_ptr [4, 8, 8]\n",
      "Results match: False\n",
      "tensor([[[3.7979e+00, 3.1989e+00, 2.9189e+00, 2.2978e+00, 3.7707e+00,\n",
      "          3.1057e+00, 2.5557e+00, 1.5586e+00],\n",
      "         [2.9854e+00, 2.7109e+00, 3.3419e+00, 2.7745e+00, 4.3589e+00,\n",
      "          3.7183e+00, 2.7992e+00, 1.4989e+00],\n",
      "         [3.0391e+00, 2.3854e+00, 2.6818e+00, 2.8011e+00, 4.2043e+00,\n",
      "          3.6416e+00, 3.4220e+00, 1.4298e+00],\n",
      "         [2.7617e+00, 2.9887e+00, 3.5100e+00, 4.2107e+00, 4.7459e+00,\n",
      "          3.6242e+00, 3.1270e+00, 8.8920e-01],\n",
      "         [3.0284e+00, 2.6824e+00, 2.8830e+00, 4.1134e+00, 4.9645e+00,\n",
      "          3.7006e+00, 2.5766e+00, 9.0460e-01],\n",
      "         [2.9366e+00, 3.2696e+00, 2.9984e+00, 3.0241e+00, 3.1591e+00,\n",
      "          2.5144e+00, 1.2738e+00, 4.9069e-01],\n",
      "         [1.2750e+00, 1.9437e+00, 2.4010e+00, 2.1371e+00, 2.1035e+00,\n",
      "          1.4691e+00, 7.0879e-01, 1.3890e-01],\n",
      "         [1.6424e-01, 2.9547e-01, 4.8142e-01, 7.4419e-01, 6.7324e-01,\n",
      "          3.2021e-01, 4.7337e-01, 2.8814e-03]],\n",
      "\n",
      "        [[4.7677e+00, 5.2205e+00, 4.8708e+00, 4.1011e+00, 3.6941e+00,\n",
      "          1.9523e+00, 9.8481e-01, 3.8583e-01],\n",
      "         [4.9172e+00, 4.5729e+00, 4.0455e+00, 3.8568e+00, 3.7539e+00,\n",
      "          2.6430e+00, 9.9713e-01, 5.1884e-01],\n",
      "         [3.6953e+00, 4.4919e+00, 3.7284e+00, 3.5595e+00, 3.7088e+00,\n",
      "          2.3799e+00, 1.4304e+00, 1.0192e+00],\n",
      "         [2.6861e+00, 4.3174e+00, 4.2784e+00, 3.7370e+00, 4.0690e+00,\n",
      "          2.5186e+00, 1.8637e+00, 1.1865e+00],\n",
      "         [3.1323e+00, 3.0522e+00, 3.3666e+00, 3.6413e+00, 3.5818e+00,\n",
      "          2.5304e+00, 2.0637e+00, 8.2562e-01],\n",
      "         [3.1339e+00, 2.1825e+00, 1.8503e+00, 2.5851e+00, 2.4875e+00,\n",
      "          1.8148e+00, 1.5288e+00, 3.0937e-01],\n",
      "         [2.3366e+00, 1.5938e+00, 1.0750e+00, 1.1632e+00, 1.3107e+00,\n",
      "          1.1133e+00, 7.3283e-01, 5.7091e-02],\n",
      "         [5.7672e-01, 3.8296e-01, 5.7485e-01, 1.3331e-01, 2.8794e-01,\n",
      "          3.3956e-01, 1.8776e-01, 1.1350e-03]],\n",
      "\n",
      "        [[3.7313e+00, 4.7449e+00, 4.6651e+00, 3.9726e+00, 3.9118e+00,\n",
      "          2.5834e+00, 1.4973e+00, 4.2425e-01],\n",
      "         [3.3991e+00, 3.9773e+00, 3.0793e+00, 2.6190e+00, 3.0514e+00,\n",
      "          2.0699e+00, 1.4631e+00, 8.4823e-01],\n",
      "         [2.9307e+00, 4.2250e+00, 3.3565e+00, 2.9085e+00, 3.4585e+00,\n",
      "          2.1554e+00, 1.3531e+00, 1.2761e+00],\n",
      "         [2.8294e+00, 3.6026e+00, 3.7344e+00, 3.2245e+00, 4.1121e+00,\n",
      "          3.0606e+00, 2.3100e+00, 1.2861e+00],\n",
      "         [3.7654e+00, 3.8997e+00, 3.9306e+00, 3.6631e+00, 4.3133e+00,\n",
      "          3.4660e+00, 3.3036e+00, 1.3790e+00],\n",
      "         [2.8390e+00, 3.0358e+00, 2.5399e+00, 3.5501e+00, 3.4815e+00,\n",
      "          2.6258e+00, 2.1696e+00, 7.1295e-01],\n",
      "         [1.7817e+00, 1.5934e+00, 1.4232e+00, 2.1828e+00, 2.6744e+00,\n",
      "          2.3037e+00, 1.3212e+00, 1.8132e-01],\n",
      "         [6.5863e-01, 3.9583e-01, 4.3931e-01, 4.1511e-01, 9.3301e-01,\n",
      "          8.7319e-01, 6.1509e-01, 3.7270e-03]],\n",
      "\n",
      "        [[3.0489e+00, 2.7754e+00, 3.5838e+00, 3.2364e+00, 4.8218e+00,\n",
      "          3.5197e+00, 2.6226e+00, 1.0501e+00],\n",
      "         [3.1879e+00, 3.2348e+00, 3.5203e+00, 3.4906e+00, 4.3295e+00,\n",
      "          3.4191e+00, 2.8952e+00, 1.3051e+00],\n",
      "         [3.5468e+00, 4.3227e+00, 3.6970e+00, 3.9191e+00, 4.5035e+00,\n",
      "          2.9230e+00, 2.2827e+00, 1.3226e+00],\n",
      "         [3.9458e+00, 4.3928e+00, 3.0988e+00, 3.5953e+00, 4.6005e+00,\n",
      "          2.8326e+00, 2.4534e+00, 7.1538e-01],\n",
      "         [4.4134e+00, 4.1721e+00, 3.0080e+00, 3.8145e+00, 3.7370e+00,\n",
      "          2.2224e+00, 2.2362e+00, 4.8719e-01],\n",
      "         [3.3978e+00, 3.4193e+00, 2.3177e+00, 3.0379e+00, 2.2184e+00,\n",
      "          1.5482e+00, 9.6493e-01, 2.3589e-01],\n",
      "         [1.9249e+00, 2.0206e+00, 2.0717e+00, 1.9889e+00, 1.1596e+00,\n",
      "          1.1237e+00, 3.5779e-01, 6.7164e-02],\n",
      "         [4.5906e-01, 4.7263e-01, 7.0809e-01, 7.9114e-01, 3.6602e-01,\n",
      "          2.3087e-01, 2.2955e-01, 1.3945e-03]]])\n",
      "tensor([[[0.4963, 0.7682, 0.0885, 0.1320, 0.3074, 0.6341, 0.4901, 0.8964],\n",
      "         [0.4556, 0.6323, 0.3489, 0.4017, 0.0223, 0.1689, 0.2939, 0.5185],\n",
      "         [0.6977, 0.8000, 0.1610, 0.2823, 0.6816, 0.9152, 0.3971, 0.8742],\n",
      "         [0.4194, 0.5529, 0.9527, 0.0362, 0.1852, 0.3734, 0.3051, 0.9320],\n",
      "         [0.1759, 0.2698, 0.1507, 0.0317, 0.2081, 0.9298, 0.7231, 0.7423],\n",
      "         [0.5263, 0.2437, 0.5846, 0.0332, 0.1387, 0.2422, 0.8155, 0.7932],\n",
      "         [0.2783, 0.4820, 0.8198, 0.9971, 0.6984, 0.5675, 0.8352, 0.2056],\n",
      "         [0.5932, 0.1123, 0.1535, 0.2417, 0.7262, 0.7011, 0.2038, 0.6511]],\n",
      "\n",
      "        [[0.7745, 0.4369, 0.5191, 0.6159, 0.8102, 0.9801, 0.1147, 0.3168],\n",
      "         [0.6965, 0.9143, 0.9351, 0.9412, 0.5995, 0.0652, 0.5460, 0.1872],\n",
      "         [0.0340, 0.9442, 0.8802, 0.0012, 0.5936, 0.4158, 0.4177, 0.2711],\n",
      "         [0.6923, 0.2038, 0.6833, 0.7529, 0.8579, 0.6870, 0.0051, 0.1757],\n",
      "         [0.7497, 0.6047, 0.1100, 0.2121, 0.9704, 0.8369, 0.2820, 0.3742],\n",
      "         [0.0237, 0.4910, 0.1235, 0.1143, 0.4725, 0.5751, 0.2952, 0.7967],\n",
      "         [0.1957, 0.9537, 0.8426, 0.0784, 0.3756, 0.5226, 0.5730, 0.6186],\n",
      "         [0.6962, 0.5300, 0.2560, 0.7366, 0.0204, 0.2036, 0.3748, 0.2564]],\n",
      "\n",
      "        [[0.3251, 0.0902, 0.3936, 0.6069, 0.1743, 0.4743, 0.8579, 0.4486],\n",
      "         [0.5139, 0.4569, 0.6012, 0.8179, 0.9736, 0.8175, 0.9747, 0.4638],\n",
      "         [0.0508, 0.2630, 0.8405, 0.4968, 0.2515, 0.1168, 0.0321, 0.0780],\n",
      "         [0.3986, 0.7742, 0.7703, 0.0178, 0.8119, 0.1087, 0.3943, 0.2973],\n",
      "         [0.4037, 0.4018, 0.0513, 0.0683, 0.4218, 0.5065, 0.2729, 0.6883],\n",
      "         [0.0500, 0.4663, 0.9397, 0.2961, 0.9515, 0.6811, 0.0488, 0.8163],\n",
      "         [0.4423, 0.2768, 0.8998, 0.0960, 0.5537, 0.3953, 0.8571, 0.6396],\n",
      "         [0.7403, 0.6766, 0.3798, 0.3948, 0.0880, 0.7709, 0.8970, 0.8421]],\n",
      "\n",
      "        [[0.1473, 0.5223, 0.1475, 0.2248, 0.2086, 0.6709, 0.2020, 0.4891],\n",
      "         [0.5210, 0.8223, 0.1220, 0.1567, 0.2097, 0.8500, 0.3203, 0.9217],\n",
      "         [0.6808, 0.5633, 0.4963, 0.4012, 0.5627, 0.3858, 0.4965, 0.5638],\n",
      "         [0.1089, 0.2379, 0.9037, 0.0942, 0.4641, 0.9946, 0.6806, 0.5142],\n",
      "         [0.0667, 0.7477, 0.1439, 0.3581, 0.3322, 0.4260, 0.5055, 0.9124],\n",
      "         [0.5624, 0.9478, 0.8059, 0.1839, 0.7243, 0.1466, 0.2881, 0.6471],\n",
      "         [0.6651, 0.8751, 0.3390, 0.5008, 0.7574, 0.0165, 0.8615, 0.0865],\n",
      "         [0.5069, 0.4150, 0.2367, 0.5661, 0.9135, 0.3538, 0.2032, 0.3151]]])\n",
      "Running on local URL:  http://127.0.0.1:7861\n",
      "Running on public URL: https://79adbbeedc14700f31.gradio.live\n"
     ]
    },
    {
     "data": {
      "text/html": [
       "<div><iframe src=\"https://79adbbeedc14700f31.gradio.live\" width=\"100%\" height=\"800\" allow=\"autoplay; camera; microphone; clipboard-read; clipboard-write;\" frameborder=\"0\" allowfullscreen></iframe></div>"
      ],
      "text/plain": [
       "<IPython.core.display.HTML object>"
      ]
     },
     "metadata": {},
     "output_type": "display_data"
    }
   ],
   "source": [
    "def conv2d_spec(x: Float[Tensor, \"4 8 8\"], k: Float[Tensor, \"4 4\"]) -> Float[Tensor, \"4 8 8\"]:\n",
    "    return x\n",
    "\n",
    "@triton.jit\n",
    "def conv2d_kernel(x_ptr, k_ptr, z_ptr, N0, N1, H, W, KH: tl.constexpr, KW: tl.constexpr, B0: tl.constexpr, B1: tl.constexpr):\n",
    "    pid_0 = tl.program_id(0)\n",
    "    kh_range = tl.arange(0, KH)[None, :, None]\n",
    "    kw_range = tl.arange(0, KW)[None, None, :]\n",
    "    k = tl.load(k_ptr + kh_range * KW + kw_range)\n",
    "    for i in range(0, H):\n",
    "        for j in range(0, W):\n",
    "            x = tl.load(x_ptr + pid_0 * H * W + (kh_range + i) * W + (kw_range + j), \n",
    "                        ((kh_range + i) < H) & ((kw_range + j) < W), 0)\n",
    "            out = tl.sum(tl.sum(x * k, 2), 1)\n",
    "            tl.store(z_ptr + pid_0 * H * W + i*W + j + tl.arange(0,1), out)\n",
    "    \n",
    "test(conv2d_kernel, conv2d_spec, B={\"B0\": 1, \"B1\": 32}, nelem={\"N0\": 4, \"N1\": 32, \"H\": 8, \"W\": 8, \"KH\": 4, \"KW\": 4})"
   ]
  },
  {
   "cell_type": "markdown",
   "id": "d2752542-0161-48e2-9efc-f7a730ebc2a6",
   "metadata": {},
   "source": [
    "## Puzzle 9: Matrix Mult"
   ]
  },
  {
   "cell_type": "code",
   "execution_count": 12,
   "id": "111c598f-e402-400b-9b44-5514198fd9f3",
   "metadata": {},
   "outputs": [
    {
     "name": "stdout",
     "output_type": "stream",
     "text": [
      "x_ptr [4, 32, 32]\n",
      "y_ptr [4, 32, 32]\n",
      "z_ptr [4, 32, 32]\n",
      "Results match: False\n",
      "tensor([[[ 8.3391,  7.9111,  8.4097,  ...,  6.7225,  8.9109,  8.1703],\n",
      "         [ 7.6265,  7.7135,  7.8818,  ...,  5.5574,  8.3774,  9.3551],\n",
      "         [ 9.3186,  8.2885,  8.0333,  ...,  6.4727,  9.5322,  9.6548],\n",
      "         ...,\n",
      "         [ 7.6429,  8.3466,  7.9423,  ...,  6.2658,  8.3070,  8.1512],\n",
      "         [ 8.1154,  7.7465,  8.8425,  ...,  6.6136,  8.6476, 10.4751],\n",
      "         [ 7.4778,  7.5884,  7.1350,  ...,  6.0462,  8.4397,  8.8035]],\n",
      "\n",
      "        [[ 0.3006,  0.5485,  0.2660,  ...,  0.3626,  0.5522,  0.8689],\n",
      "         [ 0.7159,  0.0853,  0.7634,  ...,  0.1857,  0.7333,  0.9228],\n",
      "         [ 0.2173,  0.3993,  0.9514,  ...,  0.1072,  0.5109,  0.9906],\n",
      "         ...,\n",
      "         [ 0.7561,  0.7053,  0.1599,  ...,  0.2121,  0.5966,  0.9737],\n",
      "         [ 0.5935,  0.1449,  0.1956,  ...,  0.2828,  0.7119,  0.4724],\n",
      "         [ 0.5482,  0.1261,  0.2800,  ...,  0.6109,  0.8317,  0.9479]],\n",
      "\n",
      "        [[ 0.8422,  0.4910,  0.0869,  ...,  0.4361,  0.2380,  0.3490],\n",
      "         [ 0.3761,  0.7128,  0.6141,  ...,  0.5803,  0.0688,  0.8538],\n",
      "         [ 0.2096,  0.8901,  0.6830,  ...,  0.5809,  0.8568,  0.7020],\n",
      "         ...,\n",
      "         [ 0.4256,  0.5043,  0.2895,  ...,  0.7083,  0.0815,  0.5717],\n",
      "         [ 0.8865,  0.8142,  0.7258,  ...,  0.4636,  0.7118,  0.4572],\n",
      "         [ 0.2966,  0.6484,  0.3336,  ...,  0.4053,  0.4248,  0.7368]],\n",
      "\n",
      "        [[ 0.5196,  0.6431,  0.0377,  ...,  0.2689,  0.5155,  0.4969],\n",
      "         [ 0.8496,  0.4362,  0.4209,  ...,  0.8168,  0.2422,  0.6245],\n",
      "         [ 0.6940,  0.3797,  0.5567,  ...,  0.5871,  0.1292,  0.0242],\n",
      "         ...,\n",
      "         [ 0.2381,  0.0804,  0.5821,  ...,  0.7280,  0.1852,  0.7020],\n",
      "         [ 0.4972,  0.4876,  0.1304,  ...,  0.6130,  0.0553,  0.4204],\n",
      "         [ 0.3846,  0.7629,  0.1982,  ...,  0.3516,  0.8044,  0.7140]]])\n",
      "tensor([[[ 8.3391,  7.9111,  8.4097,  ...,  6.7225,  8.9109,  8.1703],\n",
      "         [ 7.6265,  7.7135,  7.8818,  ...,  5.5574,  8.3774,  9.3551],\n",
      "         [ 9.3186,  8.2885,  8.0333,  ...,  6.4727,  9.5322,  9.6548],\n",
      "         ...,\n",
      "         [ 7.6429,  8.3466,  7.9423,  ...,  6.2658,  8.3070,  8.1512],\n",
      "         [ 8.1154,  7.7465,  8.8425,  ...,  6.6136,  8.6476, 10.4751],\n",
      "         [ 7.4778,  7.5884,  7.1350,  ...,  6.0462,  8.4397,  8.8035]],\n",
      "\n",
      "        [[ 6.3520,  8.8631,  7.5929,  ...,  9.1432,  8.9527,  7.8164],\n",
      "         [ 9.3189, 10.4462,  9.1858,  ..., 11.6088, 10.6563,  9.1741],\n",
      "         [ 5.1281,  7.2224,  6.0019,  ...,  7.3976,  7.0443,  6.3322],\n",
      "         ...,\n",
      "         [ 6.4778,  8.6329,  7.2358,  ...,  8.0356,  9.5644,  6.1768],\n",
      "         [ 9.2839, 11.2542,  9.3298,  ..., 10.8283, 11.0760,  8.2259],\n",
      "         [ 8.4142,  9.8334,  9.2929,  ..., 10.4671, 10.0246,  8.6022]],\n",
      "\n",
      "        [[ 8.5872,  6.6142,  8.4673,  ...,  9.9008,  9.2620,  8.7293],\n",
      "         [ 7.3065,  5.8632,  8.6217,  ...,  9.6907,  7.4150,  8.0997],\n",
      "         [ 7.6968,  7.3021,  8.8673,  ..., 10.7774,  9.2273,  7.4578],\n",
      "         ...,\n",
      "         [ 7.9885,  8.3036,  8.5803,  ..., 10.5008,  8.8404,  7.6423],\n",
      "         [ 8.2937,  8.2383,  8.6867,  ..., 11.9748,  9.2742,  8.2230],\n",
      "         [ 8.2313,  7.8154,  9.9174,  ..., 10.6002,  8.9609,  9.4145]],\n",
      "\n",
      "        [[ 7.7985,  9.9987,  9.2443,  ...,  6.8907, 10.8386,  8.4276],\n",
      "         [ 7.3796, 10.5058,  9.1678,  ...,  7.0334,  9.2582,  7.7182],\n",
      "         [ 6.6391,  8.9433,  7.7577,  ...,  5.9995,  8.6712,  8.2016],\n",
      "         ...,\n",
      "         [ 8.7380, 10.7913,  9.6359,  ...,  6.6262, 10.4856,  8.0739],\n",
      "         [ 6.8013,  9.2832,  8.2159,  ...,  6.3562,  8.2790,  7.2546],\n",
      "         [ 7.3041,  9.1626,  7.6486,  ...,  6.2253,  9.5391,  8.4766]]])\n",
      "Running on local URL:  http://127.0.0.1:7865\n",
      "Running on public URL: https://6cbd55d01a55590caf.gradio.live\n"
     ]
    },
    {
     "data": {
      "text/html": [
       "<div><iframe src=\"https://6cbd55d01a55590caf.gradio.live\" width=\"100%\" height=\"800\" allow=\"autoplay; camera; microphone; clipboard-read; clipboard-write;\" frameborder=\"0\" allowfullscreen></iframe></div>"
      ],
      "text/plain": [
       "<IPython.core.display.HTML object>"
      ]
     },
     "metadata": {},
     "output_type": "display_data"
    }
   ],
   "source": [
    "def dot_spec(x: Float[Tensor, \"4 32 32\"], y: Float[Tensor, \"4 32 32\"]) -> Float[Tensor, \"4 32 32\"]:\n",
    "    return x @ y\n",
    "    \n",
    "@triton.jit\n",
    "def dot_kernel(x_ptr, y_ptr, z_ptr, N0, N1, N2, MID, B0: tl.constexpr, B1: tl.constexpr, B2: tl.constexpr):\n",
    "    r = tl.program_id(0) * B0\n",
    "    rows = tl.arange(0, B0) [:, None]\n",
    "    c = tl.program_id(1) * B1\n",
    "    cols = tl.arange(0, B1)[None, :]\n",
    "    mids = tl.arange(0, B0)\n",
    "    b = tl.program_id(2)\n",
    "    bid = b * N0 * N1\n",
    "    z = 0\n",
    "    for i in range(0, MID, B0): \n",
    "        x_val = tl.load(\n",
    "            x_ptr\n",
    "            + bid\n",
    "            + (r + rows) * MID\n",
    "            + (mids + i) \n",
    "            (i + mids < MID) & (rows + r < N0), 0\n",
    "        )\n",
    "        y_val = tl.load(\n",
    "            y_ptr\n",
    "            + bid\n",
    "            + (i + mids[:, None]) * N1\n",
    "            + (cols + c),\n",
    "            (i + mids[:, None] < MID) & (cols + c < N1)\n",
    "            , 0\n",
    "        )\n",
    "        z = z + tl.dot(x_val, y_val)\n",
    "    tl.store(\n",
    "        z_ptr\n",
    "        + (b * N0 * N1)\n",
    "        + (r + rows) * N1\n",
    "        + (cols + c),\n",
    "        z,\n",
    "        mask= (r + rows) < N0  & (c + cols) < N1\n",
    "    )\n",
    "test(dot_kernel, dot_spec, B={\"B0\": 16, \"B1\": 16, \"B2\": 1}, nelem={\"N0\": 32, \"N1\": 32, \"N2\": 4, \"MID\": 32})\n"
   ]
  },
  {
   "cell_type": "code",
   "execution_count": null,
   "id": "30420e16-eb57-46c4-8a92-e7d8381cc567",
   "metadata": {},
   "outputs": [],
   "source": []
  },
  {
   "cell_type": "markdown",
   "id": "d8917111-6ceb-4491-9f7a-733dd4f29a04",
   "metadata": {},
   "source": [
    "## Puzzle 10: Quantized Matrix Mult \n",
    "\n",
    "GPT-Q like puzzles"
   ]
  },
  {
   "cell_type": "code",
   "execution_count": null,
   "id": "e5699ccd-d8f1-423f-816c-2a41abc8eb19",
   "metadata": {},
   "outputs": [],
   "source": [
    "FPINT = 32 // 4\n",
    "GROUP = 16\n",
    "\n",
    "def quant_dot_spec(scale : Float[Tensor, \"64 4\"], \n",
    "                   offset : Int[Tensor, \"64 1\"], \n",
    "                   weight: Int[Tensor, \"64 8\"], \n",
    "                   activation: Float[Tensor, \"4 32 32\"]) -> Float[Tensor, \"4 32 32\"]:\n",
    "    return (scale * (weight - offset[:, :, None].expand(32, 4, 8).view(32, 32)))  @ activation\n",
    "    \n",
    "@triton.jit\n",
    "def quant_dot_kernel(scale_ptr, offset_ptr, weight_ptr, activation_ptr,\n",
    "                     z_ptr, N0, N1, N2, MID, B0: tl.constexpr, B1: tl.constexpr, B2: tl.constexpr):\n",
    "    r = tl.program_id(0) * B0\n",
    "    rows = tl.arange(0, B0) [:, None]\n",
    "    c = tl.program_id(1) * B1\n",
    "    cols = tl.arange(0, B1)[None, :]\n",
    "    mids = tl.arange(0, B0)\n",
    "\n",
    "    b = tl.program_id(2)\n",
    "    bid = b * N0 * N1\n",
    "\n",
    "    z = 0\n",
    "    for i in range(0, MID, B0): \n",
    "        scale_val = tl.load(\n",
    "            scale_ptr\n",
    "            + (r + rows) * (MID // GROUP)\n",
    "            + (mids + i) // GROUP,\n",
    "            (i + mids < MID // GROUP) & (rows + r < N0), 0\n",
    "        )\n",
    "        scale_val = scale_val\n",
    "        \n",
    "        offset_val = tl.load(\n",
    "            offset_ptr\n",
    "            + (r + rows) * MID // (FPINT * GROUP)\n",
    "            + (mids + i) // (FPINT * GROUP),\n",
    "            (i + mids < MID // (FPINT * GROUP)) & (rows + r < N0), 0\n",
    "        )\n",
    "\n",
    "        v = (tl.arange(0, MID) % FPINT) * 4as\n",
    "        offset_val = (offset_val >> v) & (16)\n",
    "        \n",
    "        weight_val = tl.load(\n",
    "            weight_ptr\n",
    "            + (r + rows) * MID // FPINT\n",
    "            + (mids + i) // FPINT,\n",
    "            (i + mids < MID // FPINT) & (rows + r < N0), 0\n",
    "        )\n",
    "        v = (tl.arange(0, MID) % FPINT) * 4\n",
    "        weight_val = (weight_val >> v) & (16)\n",
    "        weight = (weight_val - offset_val) * scale_val\n",
    "        \n",
    "        activation_val = tl.load(\n",
    "            activation_ptr\n",
    "            + bid\n",
    "            + (i + mids[:, None]) * N1\n",
    "            + (cols + c),\n",
    "            (i + mids[:, None] < MID) & (cols + c < N1)\n",
    "            , 0\n",
    "        )\n",
    "        z = z + tl.dot(weight, activation_val)\n",
    "    tl.store(\n",
    "        z_ptr\n",
    "        + (b * N0 * N1)\n",
    "        + (r + rows) * N1\n",
    "        + (cols + c),\n",
    "        z,\n",
    "        mask= (r + rows) < N0  & (c + cols) < N1\n",
    "    )\n",
    "test(quant_dot_kernel, quannt_dot_spec, B={\"B0\": 16, \"B1\": 16, \"B2\": 1}, nelem={\"N0\": 64, \"N1\": 64, \"N2\": 4, \"MID\": 64})\n"
   ]
  },
  {
   "cell_type": "markdown",
   "id": "7006b93f-1dbe-469a-8627-50159fe38e1b",
   "metadata": {},
   "source": [
    "## Puzzle 11: Flash Attention \n",
    "\n",
    "Long reduction. "
   ]
  },
  {
   "cell_type": "code",
   "execution_count": null,
   "id": "3e144524-679f-4922-a581-4f6efdd5046d",
   "metadata": {},
   "outputs": [],
   "source": []
  }
 ],
 "metadata": {
  "kernelspec": {
   "display_name": "tritonviz",
   "language": "python",
   "name": "tritonviz"
  },
  "language_info": {
   "codemirror_mode": {
    "name": "ipython",
    "version": 3
   },
   "file_extension": ".py",
   "mimetype": "text/x-python",
   "name": "python",
   "nbconvert_exporter": "python",
   "pygments_lexer": "ipython3",
   "version": "3.10.12"
  }
 },
 "nbformat": 4,
 "nbformat_minor": 5
}
