{
 "cells": [
  {
   "cell_type": "markdown",
   "id": "05199f6b-13f0-49af-9a57-d4e98f80ef47",
   "metadata": {},
   "source": [
    "# Triton Puzzles\n",
    "\n"
   ]
  },
  {
   "cell_type": "code",
   "execution_count": 15,
   "id": "88e71c24-2a2b-4616-9581-4f93eeb2a8f6",
   "metadata": {},
   "outputs": [],
   "source": [
    "import torch\n",
    "import triton\n",
    "from torch import Tensor\n",
    "import triton.language as tl\n",
    "import triton_viz\n",
    "from triton_viz.interpreter import record_builder\n",
    "import jaxtyping \n",
    "import inspect\n",
    "from jaxtyping import Float32, Int32\n",
    "\n",
    "def test(puzzle, puzzle_spec, nelem={}, B={\"B0\": 32}):\n",
    "    B = dict(B)\n",
    "    if \"N1\" in nelem and \"B1\" not in B:\n",
    "        B[\"B1\"] = 32\n",
    "    if \"N2\" in nelem and \"B2\" not in B:\n",
    "        B[\"B2\"] = 32\n",
    "        \n",
    "    triton_viz.interpreter.record_builder.reset()\n",
    "    torch.manual_seed(0)\n",
    "    signature = inspect.signature(puzzle_spec)\n",
    "    args = {}\n",
    "    for n, p in signature.parameters.items():\n",
    "        print(p)\n",
    "        args[n + \"_ptr\"] = ([d.size for d in p.annotation.dims], p)\n",
    "    args[\"z_ptr\"] = ([d.size for d in signature.return_annotation.dims], None)\n",
    "    \n",
    "    tt_args = []\n",
    "    for k, (v, t) in args.items():\n",
    "        tt_args.append(torch.rand(*v))\n",
    "        if t is not None and t.annotation.dtypes[0] == \"int32\":\n",
    "            tt_args[-1] = torch.randint(-100000, 100000, v)\n",
    "    grid = lambda meta: (triton.cdiv(nelem[\"N0\"], meta[\"B0\"]), \n",
    "                         triton.cdiv(nelem.get(\"N1\", 1), meta.get(\"B1\", 1)), \n",
    "                         triton.cdiv(nelem.get(\"N2\", 1), meta.get(\"B2\", 1)))   \n",
    "\n",
    "    #for k, v in args.items():\n",
    "    #    print(k, v)\n",
    "    triton_viz.trace(puzzle)[grid](*tt_args, **B, **nelem)\n",
    "    z = tt_args[-1]\n",
    "    tt_args = tt_args[:-1]\n",
    "    z_ = puzzle_spec(*tt_args)\n",
    "    match = torch.allclose(z, z_, rtol=1e-3, atol=1e-3)\n",
    "    print(\"Results match:\",  match)\n",
    "    if not match:\n",
    "        print(\"Yours:\", z)\n",
    "        print(\"Spec:\", z_)\n",
    "        print(torch.isclose(z, z_))\n",
    "    triton_viz.launch()"
   ]
  },
  {
   "cell_type": "markdown",
   "id": "f617b944-cf73-4bad-b7d6-1cc6d17879a9",
   "metadata": {},
   "source": [
    "## Puzzle 1: Constant Add\n",
    "\n",
    "Add a constant to a vector. Uses one program block. Block size `B0` is always the same as vector `x` with length `N0`.\n",
    "\n",
    "\n",
    "$$z_i = 10 + x_i \\text{ for } i = 1\\ldots N_0$$\n"
   ]
  },
  {
   "cell_type": "code",
   "execution_count": 2,
   "id": "3d5fdae5-156e-48e6-abb3-9abe9d258229",
   "metadata": {},
   "outputs": [
    {
     "name": "stdout",
     "output_type": "stream",
     "text": [
      "x: jaxtyping.Float32[Tensor, '32']\n",
      "x_ptr ([32], <Parameter \"x: jaxtyping.Float32[Tensor, '32']\">)\n",
      "z_ptr ([32], None)\n",
      "Results match: True\n",
      "Running on local URL:  http://127.0.0.1:7860\n"
     ]
    },
    {
     "data": {
      "text/html": [
       "<div><iframe src=\"http://127.0.0.1:7860/\" width=\"100%\" height=\"800\" allow=\"autoplay; camera; microphone; clipboard-read; clipboard-write;\" frameborder=\"0\" allowfullscreen></iframe></div>"
      ],
      "text/plain": [
       "<IPython.core.display.HTML object>"
      ]
     },
     "metadata": {},
     "output_type": "display_data"
    }
   ],
   "source": [
    "def add_spec(x: Float32[Tensor, \"32\"]) -> Float32[Tensor, \"32\"]:\n",
    "    return x + 10.\n",
    "\n",
    "@triton.jit\n",
    "def add_kernel(x_ptr, z_ptr, N0, B0: tl.constexpr):\n",
    "    range = tl.arange(0, B0)\n",
    "    x = tl.load(x_ptr + range)\n",
    "    z = x + 10\n",
    "    z = tl.store(z_ptr + range, z)\n",
    "\n",
    "test(add_kernel, add_spec, nelem={\"N0\": 32})"
   ]
  },
  {
   "cell_type": "markdown",
   "id": "863aa741-98ba-4370-970a-7378a075fadb",
   "metadata": {},
   "source": [
    "## Puzzle 2: Constant Add Block\n",
    "\n",
    "Add a constant to a vector. Uses one program block. Block size `B0` is now smaller than the shape vector `x` which is `N0`.\n",
    "\n",
    "\n",
    "$$z_i = 10 + x_i \\text{ for } i = 1\\ldots N_0$$\n",
    "\n"
   ]
  },
  {
   "cell_type": "code",
   "execution_count": 3,
   "id": "74baeaed-82d0-4814-b1fc-e9a51237cf7e",
   "metadata": {},
   "outputs": [
    {
     "name": "stdout",
     "output_type": "stream",
     "text": [
      "x: jaxtyping.Float32[Tensor, '200']\n",
      "x_ptr ([200], <Parameter \"x: jaxtyping.Float32[Tensor, '200']\">)\n",
      "z_ptr ([200], None)\n",
      "Results match: True\n",
      "Running on local URL:  http://127.0.0.1:7861\n"
     ]
    },
    {
     "data": {
      "text/html": [
       "<div><iframe src=\"http://127.0.0.1:7861/\" width=\"100%\" height=\"800\" allow=\"autoplay; camera; microphone; clipboard-read; clipboard-write;\" frameborder=\"0\" allowfullscreen></iframe></div>"
      ],
      "text/plain": [
       "<IPython.core.display.HTML object>"
      ]
     },
     "metadata": {},
     "output_type": "display_data"
    }
   ],
   "source": [
    "def add2_spec(x: Float32[Tensor, \"200\"]) -> Float32[Tensor, \"200\"]:\n",
    "    return x + 10.\n",
    "\n",
    "@triton.jit\n",
    "def add_mask2_kernel(x_ptr, z_ptr, N0, B0: tl.constexpr):\n",
    "    pid = tl.program_id(0)\n",
    "    range = pid * B0 + tl.arange(0, B0)\n",
    "    x = tl.load(x_ptr + range, range < N0, 0\n",
    "               )\n",
    "    z = x + 10\n",
    "    z = tl.store(z_ptr + range, \n",
    "                 z, range < N0)\n",
    "    \n",
    "test(add_mask2_kernel, add2_spec, nelem={\"N0\": 200})"
   ]
  },
  {
   "cell_type": "markdown",
   "id": "639dbf91-18b1-4bc6-8624-609b1031e9e1",
   "metadata": {},
   "source": [
    "## Puzzle 3: Outer Vector Add\n",
    "\n",
    "Add two vectors. \n",
    "\n",
    "Uses one program block. Block size `B0` is always the same as vector `x` length `N0`.\n",
    "Block size `B1` is always the same as vector `y` length `N1`.\n",
    "\n",
    "\n",
    "$$z_{i, j} = x_i + y_j\\text{ for } i = 1\\ldots B_0,\\ j = 1\\ldots B_1$$\n"
   ]
  },
  {
   "cell_type": "code",
   "execution_count": 4,
   "id": "5a977409-3fcb-4b72-abee-f09d02bf6f70",
   "metadata": {},
   "outputs": [
    {
     "name": "stdout",
     "output_type": "stream",
     "text": [
      "x: jaxtyping.Float32[Tensor, '32']\n",
      "y: jaxtyping.Float32[Tensor, '32']\n",
      "x_ptr ([32], <Parameter \"x: jaxtyping.Float32[Tensor, '32']\">)\n",
      "y_ptr ([32], <Parameter \"y: jaxtyping.Float32[Tensor, '32']\">)\n",
      "z_ptr ([32, 32], None)\n",
      "Results match: True\n",
      "Running on local URL:  http://127.0.0.1:7862\n"
     ]
    },
    {
     "data": {
      "text/html": [
       "<div><iframe src=\"http://127.0.0.1:7862/\" width=\"100%\" height=\"800\" allow=\"autoplay; camera; microphone; clipboard-read; clipboard-write;\" frameborder=\"0\" allowfullscreen></iframe></div>"
      ],
      "text/plain": [
       "<IPython.core.display.HTML object>"
      ]
     },
     "metadata": {},
     "output_type": "display_data"
    }
   ],
   "source": [
    "def add_vec_spec(x: Float32[Tensor, \"32\"], y: Float32[Tensor, \"32\"]) -> Float32[Tensor, \"32 32\"]:\n",
    "    return x[None, :] + y[:, None]\n",
    "\n",
    "@triton.jit\n",
    "def add_vec_kernel(x_ptr, y_ptr, z_ptr, N0, N1, B0: tl.constexpr, B1: tl.constexpr):\n",
    "    i_range = tl.arange(0, B0)[None, :] \n",
    "    j_range = tl.arange(0, B1)[:, None]\n",
    "    \n",
    "    x = tl.load(x_ptr + i_range)\n",
    "    y = tl.load(y_ptr + j_range)\n",
    "    \n",
    "    z = x + y\n",
    "    z = tl.store(z_ptr + i_range + B0 * j_range, z)\n",
    "    \n",
    "test(add_vec_kernel, add_vec_spec, nelem={\"N0\": 32, \"N1\": 32})"
   ]
  },
  {
   "cell_type": "markdown",
   "id": "1ea0bd06-58f5-4088-af2a-f3c0d80f5e15",
   "metadata": {},
   "source": [
    "## Puzzle 4: Outer Vector Add Block\n",
    "\n",
    "Add a row vector to a column vector. \n",
    "\n",
    "Uses two program blocks. Block size `B0` is always less than the vector `x` length `N0`.\n",
    "Block size `B1` is always less than vector `y` length `N1`.\n",
    "\n",
    "$$z_{i, j} = x_i + y_j\\text{ for } i = 1\\ldots N_0,\\ j = 1\\ldots N_1$$\n"
   ]
  },
  {
   "cell_type": "code",
   "execution_count": 5,
   "id": "4dbbe277-344b-4750-b9aa-f7b7da6303d4",
   "metadata": {},
   "outputs": [
    {
     "name": "stdout",
     "output_type": "stream",
     "text": [
      "x: jaxtyping.Float32[Tensor, '100']\n",
      "y: jaxtyping.Float32[Tensor, '90']\n",
      "x_ptr ([100], <Parameter \"x: jaxtyping.Float32[Tensor, '100']\">)\n",
      "y_ptr ([90], <Parameter \"y: jaxtyping.Float32[Tensor, '90']\">)\n",
      "z_ptr ([90, 100], None)\n",
      "Results match: True\n",
      "Running on local URL:  http://127.0.0.1:7863\n"
     ]
    },
    {
     "data": {
      "text/html": [
       "<div><iframe src=\"http://127.0.0.1:7863/\" width=\"100%\" height=\"800\" allow=\"autoplay; camera; microphone; clipboard-read; clipboard-write;\" frameborder=\"0\" allowfullscreen></iframe></div>"
      ],
      "text/plain": [
       "<IPython.core.display.HTML object>"
      ]
     },
     "metadata": {},
     "output_type": "display_data"
    }
   ],
   "source": [
    "def add_vec_block_spec(x: Float32[Tensor, \"100\"], y: Float32[Tensor, \"90\"]) -> Float32[Tensor, \"90 100\"]:\n",
    "    return x[None, :] + y[:, None]\n",
    "\n",
    "@triton.jit\n",
    "def add_vec_block_kernel(x_ptr, y_ptr, z_ptr, N0, N1, B0: tl.constexpr, B1: tl.constexpr):\n",
    "    pid_0 = tl.program_id(0)\n",
    "    pid_1 = tl.program_id(1)\n",
    "\n",
    "    i_range = tl.arange(0, B0)[:, None] + pid_0 * B0\n",
    "    j_range = tl.arange(0, B1)[None, :] + pid_1 * B1\n",
    "    \n",
    "    x = tl.load(x_ptr + i_range, i_range < N0, 0)\n",
    "    y = tl.load(y_ptr + j_range, j_range < N1, 0)\n",
    "    \n",
    "    z = x + y\n",
    "    z = tl.store(z_ptr + i_range + N0 * j_range, z, (i_range < N0) & (j_range < N1))\n",
    "    \n",
    "test(add_vec_block_kernel, add_vec_block_spec, nelem={\"N0\": 100, \"N1\": 90})"
   ]
  },
  {
   "cell_type": "markdown",
   "id": "025a1cfa-6b4e-4456-acc4-d15aa35ec605",
   "metadata": {},
   "source": [
    "## Puzzle 5: Fused Outer Multiplication\n",
    "\n",
    "Multiply a row vector to a column vector and take a relu. \n",
    "\n",
    "Uses two program blocks. Block size `B0` is always less than the vector `x` length `N0`.\n",
    "Block size `B1` is always less than vector `y` length `N1`.\n",
    "\n",
    "$$z_{i, j} = \\text{relu}(x_i \\times y_j)\\text{ for } i = 1\\ldots N_0,\\ j = 1\\ldots N_1$$\n",
    "\n"
   ]
  },
  {
   "cell_type": "code",
   "execution_count": 6,
   "id": "b55955d0-b670-4dc4-9db1-5f28ce4f56fb",
   "metadata": {},
   "outputs": [
    {
     "name": "stdout",
     "output_type": "stream",
     "text": [
      "x: jaxtyping.Float32[Tensor, '100']\n",
      "y: jaxtyping.Float32[Tensor, '90']\n",
      "x_ptr ([100], <Parameter \"x: jaxtyping.Float32[Tensor, '100']\">)\n",
      "y_ptr ([90], <Parameter \"y: jaxtyping.Float32[Tensor, '90']\">)\n",
      "z_ptr ([90, 100], None)\n",
      "Results match: True\n",
      "Running on local URL:  http://127.0.0.1:7864\n"
     ]
    },
    {
     "data": {
      "text/html": [
       "<div><iframe src=\"http://127.0.0.1:7864/\" width=\"100%\" height=\"800\" allow=\"autoplay; camera; microphone; clipboard-read; clipboard-write;\" frameborder=\"0\" allowfullscreen></iframe></div>"
      ],
      "text/plain": [
       "<IPython.core.display.HTML object>"
      ]
     },
     "metadata": {},
     "output_type": "display_data"
    }
   ],
   "source": [
    "def mul_relu_block_spec(x: Float32[Tensor, \"100\"], y: Float32[Tensor, \"90\"]) -> Float32[Tensor, \"90 100\"]:\n",
    "    return torch.relu(x[None, :] * y[:, None])\n",
    "\n",
    "@triton.jit\n",
    "def mul_relu_block_kernel(x_ptr, y_ptr, z_ptr, N0, N1, B0: tl.constexpr, B1: tl.constexpr):\n",
    "    pid_0 = tl.program_id(0)\n",
    "    pid_1 = tl.program_id(1)\n",
    "\n",
    "    i_range = tl.arange(0, B0)[:, None] + pid_0 * B0\n",
    "    j_range = tl.arange(0, B1)[None, :] + pid_1 * B1\n",
    "    \n",
    "    x = tl.load(x_ptr + i_range, i_range < N0, 0)\n",
    "    y = tl.load(y_ptr + j_range, j_range < N1, 0)\n",
    "    \n",
    "    z = x * y\n",
    "    z = tl.where(z > 0, z, 0)\n",
    "    \n",
    "    z = tl.store(z_ptr + i_range + N0 * j_range, z, (i_range < N0) & (j_range < N1))\n",
    "    \n",
    "test(mul_relu_block_kernel, mul_relu_block_spec, nelem={\"N0\": 100, \"N1\": 90})"
   ]
  },
  {
   "cell_type": "markdown",
   "id": "9e1677c8-a1e8-476c-bf04-8a6ba912c84d",
   "metadata": {},
   "source": [
    "## Puzzle 6: Fused Outer Multiplication - Backwards\n",
    "\n",
    "\n",
    "Backwards of a function that multiplies a matrix with a row vector and take a relu. \n",
    "\n",
    "Uses two program blocks. Block size `B0` is always less than the vector `x` length `N0`.\n",
    "Block size `B1` is always less than vector `y` length `N1`. Chain rule backward `dz` \n",
    "is of shape `N0`\n",
    "\n",
    "$$f(x, y) = \\text{relu}(x_i \\times y_j)\\text{ for } i = 1\\ldots N_0,\\ j = 1\\ldots N_1$$\n",
    "\n",
    "$$dx_{i, j} = f_x'(x, y)_{i, j} \\times dz_{i,j}$$"
   ]
  },
  {
   "cell_type": "code",
   "execution_count": 7,
   "id": "9f06cbdd-1c9b-4b65-ae72-69c1dc599400",
   "metadata": {},
   "outputs": [
    {
     "name": "stdout",
     "output_type": "stream",
     "text": [
      "x: jaxtyping.Float32[Tensor, '90 100']\n",
      "y: jaxtyping.Float32[Tensor, '90']\n",
      "dz: jaxtyping.Float32[Tensor, '90 100']\n",
      "x_ptr ([90, 100], <Parameter \"x: jaxtyping.Float32[Tensor, '90 100']\">)\n",
      "y_ptr ([90], <Parameter \"y: jaxtyping.Float32[Tensor, '90']\">)\n",
      "dz_ptr ([90, 100], <Parameter \"dz: jaxtyping.Float32[Tensor, '90 100']\">)\n",
      "z_ptr ([90, 100], None)\n",
      "Results match: True\n"
     ]
    },
    {
     "name": "stderr",
     "output_type": "stream",
     "text": [
      "/home/srush/Projects/triton-viz/.venv/lib/python3.10/site-packages/torch/autograd/__init__.py:266: UserWarning: CUDA initialization: CUDA unknown error - this may be due to an incorrectly set up environment, e.g. changing env variable CUDA_VISIBLE_DEVICES after program start. Setting the available devices to be zero. (Triggered internally at ../c10/cuda/CUDAFunctions.cpp:108.)\n",
      "  Variable._execution_engine.run_backward(  # Calls into the C++ engine to run the backward pass\n"
     ]
    },
    {
     "name": "stdout",
     "output_type": "stream",
     "text": [
      "Running on local URL:  http://127.0.0.1:7865\n"
     ]
    },
    {
     "data": {
      "text/html": [
       "<div><iframe src=\"http://127.0.0.1:7865/\" width=\"100%\" height=\"800\" allow=\"autoplay; camera; microphone; clipboard-read; clipboard-write;\" frameborder=\"0\" allowfullscreen></iframe></div>"
      ],
      "text/plain": [
       "<IPython.core.display.HTML object>"
      ]
     },
     "metadata": {},
     "output_type": "display_data"
    }
   ],
   "source": [
    "def mul_relu_block_back_spec(x: Float32[Tensor, \"90 100\"], y: Float32[Tensor, \"90\"], \n",
    "                             dz: Float32[Tensor, \"90 100\"]) -> Float32[Tensor, \"90 100\"]:\n",
    "    x = x.clone()\n",
    "    y = y.clone()\n",
    "    x = x.requires_grad_(True)\n",
    "    y = y.requires_grad_(True)\n",
    "    z = torch.relu(x * y[:, None])\n",
    "    z.backward(dz)\n",
    "    dx = x.grad\n",
    "    return dx\n",
    "\n",
    "@triton.jit\n",
    "def mul_relu_block_back_kernel(x_ptr, y_ptr, dz_ptr, dx_ptr, N0, N1, B0: tl.constexpr, B1: tl.constexpr):\n",
    "    pid_0 = tl.program_id(0)\n",
    "    pid_1 = tl.program_id(1)\n",
    "\n",
    "    i_range = tl.arange(0, B0)[None, :] + pid_0 * B0\n",
    "    j_range = tl.arange(0, B1)[:, None] + pid_1 * B1\n",
    "    \n",
    "    x = tl.load(x_ptr + i_range + N0 * j_range, (i_range < N0) & (j_range < N1), 0)\n",
    "    y = tl.load(y_ptr + j_range, j_range < N1, 0)\n",
    "\n",
    "    # Forward\n",
    "    z = x * y\n",
    "    dz = tl.load(dz_ptr + i_range + N0 * j_range, (i_range < N0) & (j_range < N1), 0)\n",
    "    dr = tl.where(z > 0, dz, 0)\n",
    "    dx = dr * y\n",
    "    tl.store(dx_ptr + i_range + N0 * j_range, dx, (i_range < N0) & (j_range < N1))\n",
    "    \n",
    "test(mul_relu_block_back_kernel, mul_relu_block_back_spec, nelem={\"N0\": 100, \"N1\": 90})\n"
   ]
  },
  {
   "cell_type": "markdown",
   "metadata": {},
   "source": [
    "## Puzzle 7: Long Sum\n",
    "\n",
    "Sum of a batch of numbers. \n",
    "\n",
    "Uses one program blocks. Block size `B0` represents a range of batches of  `x` of length `N0`.\n",
    "Each element is of length `T`. Process it `B1 < T` elements at a time.  \n",
    "\n",
    "$$z_{i} = \\sum^{T}_j x_{i,j} =  \\text{ for } i = 1\\ldots N_0$$\n",
    "\n",
    "Hint: You will need a for loop for this problem. These work and look the same as in Python. "
   ]
  },
  {
   "cell_type": "code",
   "execution_count": 8,
   "metadata": {},
   "outputs": [
    {
     "name": "stdout",
     "output_type": "stream",
     "text": [
      "x: jaxtyping.Float32[Tensor, '4 200']\n",
      "x_ptr ([4, 200], <Parameter \"x: jaxtyping.Float32[Tensor, '4 200']\">)\n",
      "z_ptr ([4], None)\n",
      "Results match: True\n",
      "Running on local URL:  http://127.0.0.1:7866\n"
     ]
    },
    {
     "data": {
      "text/html": [
       "<div><iframe src=\"http://127.0.0.1:7866/\" width=\"100%\" height=\"800\" allow=\"autoplay; camera; microphone; clipboard-read; clipboard-write;\" frameborder=\"0\" allowfullscreen></iframe></div>"
      ],
      "text/plain": [
       "<IPython.core.display.HTML object>"
      ]
     },
     "metadata": {},
     "output_type": "display_data"
    }
   ],
   "source": [
    "def sum_spec(x: Float32[Tensor, \"4 200\"]) -> Float32[Tensor, \"4\"]:\n",
    "    return x.sum(1)\n",
    "\n",
    "@triton.jit\n",
    "def sum_kernel(x_ptr, z_ptr, N0, N1, T, B0: tl.constexpr, B1: tl.constexpr):\n",
    "    pid_0 = tl.program_id(0)\n",
    "    batch = tl.arange(0, B0)[:, None] + pid_0 * B0\n",
    "    total = 0\n",
    "    for i in range(0, T, B1):\n",
    "        i_range = tl.arange(0, B1)[None, :] + i\n",
    "        offset = batch*T + i_range\n",
    "        x = tl.load(x_ptr + offset, i_range < T, 0)\n",
    "        total = total + tl.sum(x, 1)\n",
    "    \n",
    "    tl.store(z_ptr + batch, total[None, :], batch < N0)\n",
    "    \n",
    "test(sum_kernel, sum_spec, B={\"B0\": 1, \"B1\": 32}, nelem={\"N0\": 4, \"N1\": 32, \"T\": 200})\n"
   ]
  },
  {
   "cell_type": "markdown",
   "id": "86402b17-9fa4-489b-8c79-71d4ecb68ff2",
   "metadata": {},
   "source": [
    "## Puzzle 8: Long Softmax\n",
    "\n",
    "\n",
    "Softmax of a batch of logits. \n",
    "\n",
    "Uses one program blocks. Block size `B0` represents the batch of `x` of length `N0`.\n",
    "Block logit length `T`.   Process it `B1 < T` elements at a time.  \n",
    "\n",
    "$$z_{i, j} = \\text{softmax}(x_{i,1} \\ldots x_{i, T}) \\text{ for } i = 1\\ldots N_0$$\n",
    "\n",
    "Note softmax needs to be computed in numerically stable form as in Python. \n",
    "\n",
    "There is a simple way to do this with 3 loops. You can also do it with 2 loops if you are clever. Hint: you will find this identity useful:\n",
    "\n",
    "$$\\exp(x_i - m) =  \\exp(x_i - m/2 - m/2) = \\exp(x_i - m/ 2) /  \\exp(m/2) $$"
   ]
  },
  {
   "cell_type": "code",
   "execution_count": 9,
   "id": "2c9a50fd-3774-420c-9fec-faac8fdcc7de",
   "metadata": {},
   "outputs": [
    {
     "name": "stdout",
     "output_type": "stream",
     "text": [
      "x: jaxtyping.Float32[Tensor, '4 200']\n",
      "x_ptr ([4, 200], <Parameter \"x: jaxtyping.Float32[Tensor, '4 200']\">)\n",
      "z_ptr ([4, 200], None)\n",
      "Results match: True\n",
      "Running on local URL:  http://127.0.0.1:7867\n"
     ]
    },
    {
     "data": {
      "text/html": [
       "<div><iframe src=\"http://127.0.0.1:7867/\" width=\"100%\" height=\"800\" allow=\"autoplay; camera; microphone; clipboard-read; clipboard-write;\" frameborder=\"0\" allowfullscreen></iframe></div>"
      ],
      "text/plain": [
       "<IPython.core.display.HTML object>"
      ]
     },
     "metadata": {},
     "output_type": "display_data"
    }
   ],
   "source": [
    "def softmax_spec(x: Float32[Tensor, \"4 200\"]) -> Float32[Tensor, \"4 200\"]:\n",
    "    x_max = x.max(1, keepdim=True)[0]\n",
    "    x = x - x_max\n",
    "    x_exp = x.exp() \n",
    "    return x_exp / x_exp.sum(1, keepdim=True)\n",
    "\n",
    "@triton.jit\n",
    "def softmax_kernel(x_ptr, z_ptr, N0, N1, T, B0: tl.constexpr, B1: tl.constexpr):\n",
    "    pid_0 = tl.program_id(0)\n",
    "    batch = tl.arange(0, B0)[:, None] + pid_0 * B0\n",
    "    x_max = -1e9\n",
    "    partition = 0\n",
    "    for i in range(0, T, B1):\n",
    "        i_range = tl.arange(0, B1)[None, :] + i\n",
    "        offset = batch*T + i_range\n",
    "        x = tl.load(x_ptr + offset, i_range < T, -1e9)\n",
    "        chunk_max = tl.max(x, 1)\n",
    "        if i == 0:\n",
    "            x_max_old = chunk_max\n",
    "        x_max = tl.where(chunk_max > x_max_old, chunk_max, x_max_old)\n",
    "        diff = x_max - x_max_old\n",
    "        partition = partition / tl.exp(diff) + tl.sum(tl.exp(x - x_max), 1)\n",
    "        x_max_old = x_max\n",
    "    \n",
    "    for i in range(0, T, B1):\n",
    "        i_range = tl.arange(0, B1)[None, :] + i\n",
    "        offset = batch*T + i_range\n",
    "        x = tl.load(x_ptr + offset, i_range < T, -1e9) - x_max\n",
    "        x_exp = tl.exp(x)\n",
    "        z = x_exp / partition\n",
    "        tl.store(z_ptr + offset, z, i_range < T)\n",
    "    \n",
    "test(softmax_kernel, softmax_spec, B={\"B0\": 1, \"B1\":32}, \n",
    "     nelem={\"N0\": 4, \"N1\": 32, \"T\": 200})\n"
   ]
  },
  {
   "cell_type": "markdown",
   "metadata": {},
   "source": [
    "## Puzzle 8: Simple FlashAttention\n",
    "\n",
    "A scalar version of FlashAttention. \n",
    "\n",
    "Uses zero programs. Block size `B0` represents `k` of length `N0`.\n",
    "Block size `B0` represents `q` of length `N0`. Block size `B0` represents `v` of length `N0`. \n",
    "Sequence length is `T`. Process it `B1 < T` elements at a time.  \n",
    "\n",
    "$$z_{i} = \\sum_{j} \\text{softmax}(q_1 k_1, \\ldots, q_T k_T)_j v_{j} \\text{ for } i = 1\\ldots N_0$$\n",
    "\n",
    "This can be done in 1 loop using a similar trick from the last puzzle. "
   ]
  },
  {
   "cell_type": "code",
   "execution_count": 10,
   "metadata": {},
   "outputs": [
    {
     "name": "stdout",
     "output_type": "stream",
     "text": [
      "q: jaxtyping.Float32[Tensor, '200']\n",
      "k: jaxtyping.Float32[Tensor, '200']\n",
      "v: jaxtyping.Float32[Tensor, '200']\n",
      "q_ptr ([200], <Parameter \"q: jaxtyping.Float32[Tensor, '200']\">)\n",
      "k_ptr ([200], <Parameter \"k: jaxtyping.Float32[Tensor, '200']\">)\n",
      "v_ptr ([200], <Parameter \"v: jaxtyping.Float32[Tensor, '200']\">)\n",
      "z_ptr ([200], None)\n",
      "Results match: True\n",
      "Running on local URL:  http://127.0.0.1:7868\n"
     ]
    },
    {
     "data": {
      "text/html": [
       "<div><iframe src=\"http://127.0.0.1:7868/\" width=\"100%\" height=\"800\" allow=\"autoplay; camera; microphone; clipboard-read; clipboard-write;\" frameborder=\"0\" allowfullscreen></iframe></div>"
      ],
      "text/plain": [
       "<IPython.core.display.HTML object>"
      ]
     },
     "metadata": {},
     "output_type": "display_data"
    }
   ],
   "source": [
    "def flashatt_spec(q: Float32[Tensor, \"200\"], k: Float32[Tensor, \"200\"], v: Float32[Tensor, \"200\"]) -> Float32[Tensor, \"200\"]:\n",
    "    x = q[:, None] * k[None, :]\n",
    "    x_max = x.max(1, keepdim=True)[0]\n",
    "    x = x - x_max\n",
    "    x_exp = x.exp() \n",
    "    soft =  x_exp  / x_exp.sum(1, keepdim=True)\n",
    "    return (v[None, :] * soft).sum(1)\n",
    "\n",
    "@triton.jit\n",
    "def flashatt_kernel(q_ptr, k_ptr, v_ptr, z_ptr, N0, T, B0: tl.constexpr):\n",
    "    x_max = -1e9\n",
    "    partition = 0\n",
    "    acc = 0\n",
    "    for i in range(0, T, B0):\n",
    "        i_range = tl.arange(0, B0) + i\n",
    "        offset = i_range\n",
    "        q = tl.load(q_ptr + offset, i_range < T, -1e9)[:, None]\n",
    "        k = tl.load(k_ptr + offset, i_range < T, -1e9)[None, :]\n",
    "        v = tl.load(v_ptr + offset, i_range < T, -1e9)[None, :]\n",
    "        x = q * k\n",
    "        chunk_max = tl.max(x, 1)\n",
    "        if i == 0:\n",
    "            x_max_old = chunk_max\n",
    "        x_max = tl.where(chunk_max > x_max_old, chunk_max, x_max_old)\n",
    "        diff = x_max - x_max_old\n",
    "        exp_x = tl.exp(x - x_max[:, None])\n",
    "        partition = partition / tl.exp(diff) + tl.sum(exp_x, 1)\n",
    "        acc = acc / tl.exp(diff) + tl.sum(v * exp_x, 1)\n",
    "        x_max_old = x_max\n",
    "    i_range = tl.arange(0, B0)\n",
    "    tl.store(z_ptr + i_range, acc / partition, i_range < T)\n",
    "    \n",
    "test(flashatt_kernel, flashatt_spec, B={\"B0\":200}, \n",
    "     nelem={\"N0\": 200, \"T\": 200})"
   ]
  },
  {
   "cell_type": "markdown",
   "id": "ae12e14b-0da4-414c-9574-ab747b2be387",
   "metadata": {},
   "source": [
    "## Puzzle 9: Two Dimensional Convolution\n",
    "\n",
    "A batched 2D convolution. \n",
    "\n",
    "Uses one program id axis. Block size `B0` represent the batches to process out of `N0`.\n",
    "Image `x` is size is `H` by `W` with only 1 channel, and kernel `k` is size `KH` by `KW`.\n",
    "\n",
    "$$z_{i, j, k} = \\sum_{oj, ok} k_{oj,ok} \\times x_{i,j + oj, k + ok} \\text{ for } i = 1\\ldots N_0$$\n",
    "\n"
   ]
  },
  {
   "cell_type": "code",
   "execution_count": 11,
   "id": "82214261-9c28-4d97-87e4-816c9cd4e6b2",
   "metadata": {},
   "outputs": [
    {
     "name": "stdout",
     "output_type": "stream",
     "text": [
      "x: jaxtyping.Float32[Tensor, '4 8 8']\n",
      "k: jaxtyping.Float32[Tensor, '4 4']\n",
      "x_ptr ([4, 8, 8], <Parameter \"x: jaxtyping.Float32[Tensor, '4 8 8']\">)\n",
      "k_ptr ([4, 4], <Parameter \"k: jaxtyping.Float32[Tensor, '4 4']\">)\n",
      "z_ptr ([4, 8, 8], None)\n",
      "torch.Size([4, 12, 12]) torch.Size([4, 4])\n",
      "Results match: True\n",
      "Running on local URL:  http://127.0.0.1:7869\n",
      "\n",
      "Thanks for being a Gradio user! If you have questions or feedback, please join our Discord server and chat with us: https://discord.gg/feTf9x3ZSB\n"
     ]
    },
    {
     "data": {
      "text/html": [
       "<div><iframe src=\"http://127.0.0.1:7869/\" width=\"100%\" height=\"800\" allow=\"autoplay; camera; microphone; clipboard-read; clipboard-write;\" frameborder=\"0\" allowfullscreen></iframe></div>"
      ],
      "text/plain": [
       "<IPython.core.display.HTML object>"
      ]
     },
     "metadata": {},
     "output_type": "display_data"
    }
   ],
   "source": [
    "def conv2d_spec(x: Float32[Tensor, \"4 8 8\"], k: Float32[Tensor, \"4 4\"]) -> Float32[Tensor, \"4 8 8\"]:\n",
    "    z = torch.zeros(4, 8, 8)\n",
    "    x = torch.nn.functional.pad(x, (0, 4, 0, 4, 0, 0), value=0.0)\n",
    "    print(x.shape, k.shape)\n",
    "    for i in range(8):\n",
    "        for j in range(8):\n",
    "            z[:, i, j] = (k[None, :, :] * x[:, i: i+4, j: j + 4]).sum(1).sum(1)\n",
    "    return z\n",
    "\n",
    "\n",
    "@triton.jit\n",
    "def conv2d_kernel(x_ptr, k_ptr, z_ptr, N0, H, W, KH: tl.constexpr, KW: tl.constexpr, B0: tl.constexpr):\n",
    "    pid_0 = tl.program_id(0)\n",
    "    kh_range = tl.arange(0, KH)[None, :, None]\n",
    "    kw_range = tl.arange(0, KW)[None, None, :]\n",
    "    k = tl.load(k_ptr + kh_range * KW + kw_range)\n",
    "    for i in range(0, H):\n",
    "        for j in range(0, W):\n",
    "            x = tl.load(x_ptr + pid_0 * H * W + (kh_range + i) * W + (kw_range + j), \n",
    "                        ((kh_range + i) < H) & ((kw_range + j) < W), 0)\n",
    "            out = tl.sum(tl.sum(x * k, 2), 1)\n",
    "            tl.store(z_ptr + pid_0 * H * W + i*W + j + tl.arange(0,1), out)\n",
    "    \n",
    "test(conv2d_kernel, conv2d_spec, B={\"B0\": 1}, nelem={\"N0\": 4, \"H\": 8, \"W\": 8, \"KH\": 4, \"KW\": 4})"
   ]
  },
  {
   "cell_type": "markdown",
   "id": "d2752542-0161-48e2-9efc-f7a730ebc2a6",
   "metadata": {},
   "source": [
    "## Puzzle 10: Matrix Multiplication\n",
    "\n",
    "A blocked matrix multiplication.\n",
    "\n",
    "Uses two program id axes. Block size `B2` represent the batches to process out of `N2`.\n",
    "Block size `B0` represent the rows of `x` to process out of `N0`. Block size `B1` represent the cols of `y` to process out of `N1`. The middle shape is `MID`.\n",
    "\n",
    "$$z_{i, j, k} = \\sum_{k} x_{i,j, l} \\times y_{i, l, k} \\text{ for } i = 1\\ldots N_2, j = 1\\ldots N_0, k = 1\\ldots N_1$$\n",
    "\n",
    "You are allowed to use `tl.dot` which computes a smaller mat mul. \n",
    "\n",
    "Hint: the main trick is that you can split a matmul into smaller parts. \n",
    "\n",
    "$$z_{i, j, k} = \\sum_{k=1}^{K/2} x_{i,j, l} \\times y_{i, l, k} +  \\sum_{k=K/2}^{K} x_{i,j, l} \\times y_{i, l, k} $$\n"
   ]
  },
  {
   "cell_type": "code",
   "execution_count": 16,
   "id": "111c598f-e402-400b-9b44-5514198fd9f3",
   "metadata": {},
   "outputs": [
    {
     "name": "stdout",
     "output_type": "stream",
     "text": [
      "x: jaxtyping.Float32[Tensor, '4 32 32']\n",
      "y: jaxtyping.Float32[Tensor, '4 32 32']\n",
      "x_ptr ([4, 32, 32], <Parameter \"x: jaxtyping.Float32[Tensor, '4 32 32']\">)\n",
      "y_ptr ([4, 32, 32], <Parameter \"y: jaxtyping.Float32[Tensor, '4 32 32']\">)\n",
      "z_ptr ([4, 32, 32], None)\n",
      "Results match: True\n",
      "Running on local URL:  http://127.0.0.1:7872\n"
     ]
    },
    {
     "data": {
      "text/html": [
       "<div><iframe src=\"http://127.0.0.1:7872/\" width=\"100%\" height=\"800\" allow=\"autoplay; camera; microphone; clipboard-read; clipboard-write;\" frameborder=\"0\" allowfullscreen></iframe></div>"
      ],
      "text/plain": [
       "<IPython.core.display.HTML object>"
      ]
     },
     "metadata": {},
     "output_type": "display_data"
    }
   ],
   "source": [
    "def dot_spec(x: Float32[Tensor, \"4 32 32\"], y: Float32[Tensor, \"4 32 32\"]) -> Float32[Tensor, \"4 32 32\"]:\n",
    "    return x @ y\n",
    "    \n",
    "@triton.jit\n",
    "def dot_kernel(x_ptr, y_ptr, z_ptr, N0, N1, N2, MID, B0: tl.constexpr, B1: tl.constexpr, B2: tl.constexpr):\n",
    "    r = tl.program_id(0) * B0\n",
    "    rows = tl.arange(0, B0) [:, None]\n",
    "    c = tl.program_id(1) * B1\n",
    "    cols = tl.arange(0, B1)[None, :]\n",
    "    mids = tl.arange(0, B0)\n",
    "    b = tl.program_id(2)\n",
    "    bid = b * N0 * N1\n",
    "    z = 0\n",
    "    for i in range(0, MID, B0): \n",
    "        x_val = tl.load(\n",
    "            x_ptr\n",
    "            + bid\n",
    "            + (r + rows) * MID\n",
    "            + (mids + i),\n",
    "            (i + mids < MID) & (rows + r < N0), 0\n",
    "        )\n",
    "        y_val = tl.load(\n",
    "            y_ptr\n",
    "            + bid\n",
    "            + (i + mids[:, None]) * N1\n",
    "            + (cols + c),\n",
    "            (i + mids[:, None] < MID) & (cols + c < N1)\n",
    "            , 0\n",
    "        )\n",
    "        z = z + tl.dot(x_val, y_val)\n",
    "    tl.store(\n",
    "        z_ptr\n",
    "        + (b * N0 * N1)\n",
    "        + (r + rows) * N1\n",
    "        + (cols + c),\n",
    "        z,\n",
    "        mask= (r + rows) < N0  & (c + cols) < N1\n",
    "    )\n",
    "test(dot_kernel, dot_spec, B={\"B0\": 16, \"B1\": 16, \"B2\": 1}, nelem={\"N0\": 32, \"N1\": 32, \"N2\": 4, \"MID\": 32})\n"
   ]
  },
  {
   "cell_type": "markdown",
   "id": "d8917111-6ceb-4491-9f7a-733dd4f29a04",
   "metadata": {},
   "source": [
    "## Puzzle 11: Quantized Matrix Mult \n",
    "\n",
    "When doing matrix multiplication with quantized neural networks a common strategy is to store the weight matrix in lower precision, with a shift and scale term. \n",
    "\n",
    "For this problem our `weight` will be stored in 4 bits. We can store `FPINT` of these in a 32 bit integer. In addition for every `group` weights in order we will store 1 `scale` float value and 1 `shift` 4 bit value. We store these for the column of weight. The `activation`s are stored separately in standard floats. \n",
    "\n",
    "Mathematically it looks like.\n",
    "\n",
    "$$z_{j, k} = \\sum_{k} sc_{j, l/g} (w_{j, l} - sh_{j, l/g}) \\times y_{l, k} \\text{ for } i = 1\\ldots N_2, j = 1\\ldots N_0, k = 1\\ldots N_1$$\n",
    "\n",
    "However, it is a bit more complex since we need to also extract the 4-bit values into floats to begin. \n",
    "\n",
    "\n"
   ]
  },
  {
   "cell_type": "code",
   "execution_count": 13,
   "id": "e5699ccd-d8f1-423f-816c-2a41abc8eb19",
   "metadata": {},
   "outputs": [
    {
     "name": "stdout",
     "output_type": "stream",
     "text": [
      "scale: jaxtyping.Float32[Tensor, '32 8']\n",
      "offset: jaxtyping.Int32[Tensor, '32 1']\n",
      "weight: jaxtyping.Int32[Tensor, '32 8']\n",
      "activation: jaxtyping.Float32[Tensor, '64 32']\n",
      "scale_ptr ([32, 8], <Parameter \"scale: jaxtyping.Float32[Tensor, '32 8']\">)\n",
      "offset_ptr ([32, 1], <Parameter \"offset: jaxtyping.Int32[Tensor, '32 1']\">)\n",
      "weight_ptr ([32, 8], <Parameter \"weight: jaxtyping.Int32[Tensor, '32 8']\">)\n",
      "activation_ptr ([64, 32], <Parameter \"activation: jaxtyping.Float32[Tensor, '64 32']\">)\n",
      "z_ptr ([32, 32], None)\n",
      "Results match: True\n",
      "Running on local URL:  http://127.0.0.1:7870\n"
     ]
    },
    {
     "data": {
      "text/html": [
       "<div><iframe src=\"http://127.0.0.1:7870/\" width=\"100%\" height=\"800\" allow=\"autoplay; camera; microphone; clipboard-read; clipboard-write;\" frameborder=\"0\" allowfullscreen></iframe></div>"
      ],
      "text/plain": [
       "<IPython.core.display.HTML object>"
      ]
     },
     "metadata": {},
     "output_type": "display_data"
    }
   ],
   "source": [
    "\n",
    "FPINT = 32 // 4\n",
    "GROUP = 8\n",
    "\n",
    "def quant_dot_spec(scale : Float32[Tensor, \"32 8\"], \n",
    "                   offset : Int32[Tensor, \"32 1\"], \n",
    "                   weight: Int32[Tensor, \"32 8\"], \n",
    "                   activation: Float32[Tensor, \"64 32\"]) -> Float32[Tensor, \"32 32\"]:\n",
    "    def extract(x):\n",
    "        over = torch.arange(8) * 4 \n",
    "        mask = 2**4 - 1\n",
    "        return (x[..., None] >> over) & mask\n",
    "    scale = scale[..., None].expand(-1, 8, GROUP).contiguous().view(-1, 64)\n",
    "    offset = extract(offset)[..., None].expand(-1, 1, 8, GROUP).contiguous().view(-1, 64)\n",
    "    return ( scale * (extract(weight).view(-1, 64) - offset))  @ activation\n",
    "    \n",
    "@triton.jit\n",
    "def quant_dot_kernel(scale_ptr, offset_ptr, weight_ptr, activation_ptr,\n",
    "                     z_ptr, N0, N1, MID, B0: tl.constexpr, B1: tl.constexpr):\n",
    "    r = tl.program_id(0) * B0\n",
    "    rows = tl.arange(0, B0) [:, None]\n",
    "    c = tl.program_id(1) * B1\n",
    "    cols = tl.arange(0, B1)[None, :]\n",
    "    mids = tl.arange(0, B0)\n",
    "\n",
    "    row_range = r + rows\n",
    "    z = 0\n",
    "    for i in range(0, MID, B0): \n",
    "        mid_range = i + mids[None, :]\n",
    "        check = (i + mids < MID) & (rows + r < N0)\n",
    "        scale_val = tl.load(\n",
    "            scale_ptr \n",
    "            + row_range * (MID // GROUP)\n",
    "            + mid_range // GROUP, check, 0)\n",
    "        scale_val = scale_val\n",
    "\n",
    "        weight_val = tl.load(\n",
    "            weight_ptr\n",
    "            + row_range * (MID // FPINT)\n",
    "            + mid_range // FPINT,\n",
    "            check, 0)\n",
    "        v = (mid_range % FPINT) * 4\n",
    "        weight_val = (weight_val >> v) & (2**4 - 1)\n",
    "\n",
    "        offset_val = tl.load(\n",
    "            offset_ptr\n",
    "            + row_range * (MID // (FPINT * GROUP))\n",
    "            + mid_range // (FPINT * GROUP), check, 0)\n",
    "        v = ((mid_range // GROUP) % FPINT) * 4\n",
    "        offset_val = (offset_val >> v) & (2**4 - 1)\n",
    "        \n",
    "        weight = (weight_val - offset_val) * scale_val\n",
    "        \n",
    "        activation_val = tl.load(\n",
    "            activation_ptr\n",
    "            + (i + mids[:, None]) * N1\n",
    "            + (cols + c),\n",
    "            (i + mids[:, None] < MID) & (cols + c < N1)\n",
    "            , 0\n",
    "        )\n",
    "        z = z + tl.dot(weight, activation_val)\n",
    "    tl.store(\n",
    "        z_ptr\n",
    "        + (r + rows) * N1\n",
    "        + (cols + c),\n",
    "        z,\n",
    "        mask= (r + rows) < N0  & (c + cols) < N1\n",
    "    )\n",
    "test(quant_dot_kernel, quant_dot_spec, B={\"B0\": 16, \"B1\": 16},\n",
    "                                       nelem={\"N0\": 32, \"N1\": 32, \"MID\": 64})\n"
   ]
  }
 ],
 "metadata": {
  "kernelspec": {
   "display_name": ".venv",
   "language": "python",
   "name": "python3"
  },
  "language_info": {
   "codemirror_mode": {
    "name": "ipython",
    "version": 3
   },
   "file_extension": ".py",
   "mimetype": "text/x-python",
   "name": "python",
   "nbconvert_exporter": "python",
   "pygments_lexer": "ipython3",
   "version": "3.10.12"
  }
 },
 "nbformat": 4,
 "nbformat_minor": 5
}
